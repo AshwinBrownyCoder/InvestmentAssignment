{
 "cells": [
  {
   "cell_type": "markdown",
   "id": "097cdcbf",
   "metadata": {},
   "source": [
    "# Investment Assignment"
   ]
  },
  {
   "cell_type": "code",
   "execution_count": 1,
   "id": "fb5cf4e0",
   "metadata": {},
   "outputs": [],
   "source": [
    "#To identify the encoding type import chardet\n",
    "import chardet"
   ]
  },
  {
   "cell_type": "code",
   "execution_count": 2,
   "id": "88609967",
   "metadata": {},
   "outputs": [
    {
     "name": "stdout",
     "output_type": "stream",
     "text": [
      "{'encoding': 'Windows-1254', 'confidence': 0.4610845903762258, 'language': 'Turkish'}\n"
     ]
    }
   ],
   "source": [
    "with open(\"companies.csv\",\"rb\") as rawdata:\n",
    "    result=chardet.detect(rawdata.read())\n",
    "print(result)"
   ]
  },
  {
   "cell_type": "code",
   "execution_count": 3,
   "id": "b0080ff5",
   "metadata": {},
   "outputs": [
    {
     "name": "stdout",
     "output_type": "stream",
     "text": [
      "{'encoding': 'Windows-1254', 'confidence': 0.4186155476629225, 'language': 'Turkish'}\n"
     ]
    }
   ],
   "source": [
    "with open(\"rounds2.csv\",\"rb\") as rawdata:\n",
    "    result=chardet.detect(rawdata.read())\n",
    "print(result)"
   ]
  },
  {
   "cell_type": "code",
   "execution_count": 4,
   "id": "178b05b1",
   "metadata": {},
   "outputs": [],
   "source": [
    "#Import Pandas and numpy\n",
    "import numpy as np\n",
    "import pandas as pd"
   ]
  },
  {
   "cell_type": "markdown",
   "id": "bf542536",
   "metadata": {},
   "source": [
    "## Checkpoint 1: Data Cleaning 1"
   ]
  },
  {
   "cell_type": "code",
   "execution_count": 5,
   "id": "a06ff5c0",
   "metadata": {},
   "outputs": [],
   "source": [
    "#Read Companies CSV\n",
    "companies = pd.read_csv(\"companies.csv\", encoding=\"ISO-8859-1\")\n",
    "#Read Rounds CSV\n",
    "rounds2 = pd.read_csv(\"rounds2.csv\",encoding=\"ISO-8859-1\")"
   ]
  },
  {
   "cell_type": "code",
   "execution_count": 6,
   "id": "4009fa8c",
   "metadata": {},
   "outputs": [
    {
     "data": {
      "text/html": [
       "<div>\n",
       "<style scoped>\n",
       "    .dataframe tbody tr th:only-of-type {\n",
       "        vertical-align: middle;\n",
       "    }\n",
       "\n",
       "    .dataframe tbody tr th {\n",
       "        vertical-align: top;\n",
       "    }\n",
       "\n",
       "    .dataframe thead th {\n",
       "        text-align: right;\n",
       "    }\n",
       "</style>\n",
       "<table border=\"1\" class=\"dataframe\">\n",
       "  <thead>\n",
       "    <tr style=\"text-align: right;\">\n",
       "      <th></th>\n",
       "      <th>permalink</th>\n",
       "      <th>name</th>\n",
       "      <th>homepage_url</th>\n",
       "      <th>category_list</th>\n",
       "      <th>status</th>\n",
       "      <th>country_code</th>\n",
       "      <th>state_code</th>\n",
       "      <th>region</th>\n",
       "      <th>city</th>\n",
       "      <th>founded_at</th>\n",
       "    </tr>\n",
       "  </thead>\n",
       "  <tbody>\n",
       "    <tr>\n",
       "      <th>0</th>\n",
       "      <td>/Organization/-Fame</td>\n",
       "      <td>#fame</td>\n",
       "      <td>http://livfame.com</td>\n",
       "      <td>Media</td>\n",
       "      <td>operating</td>\n",
       "      <td>IND</td>\n",
       "      <td>16</td>\n",
       "      <td>Mumbai</td>\n",
       "      <td>Mumbai</td>\n",
       "      <td>NaN</td>\n",
       "    </tr>\n",
       "    <tr>\n",
       "      <th>1</th>\n",
       "      <td>/Organization/-Qounter</td>\n",
       "      <td>:Qounter</td>\n",
       "      <td>http://www.qounter.com</td>\n",
       "      <td>Application Platforms|Real Time|Social Network...</td>\n",
       "      <td>operating</td>\n",
       "      <td>USA</td>\n",
       "      <td>DE</td>\n",
       "      <td>DE - Other</td>\n",
       "      <td>Delaware City</td>\n",
       "      <td>04-09-2014</td>\n",
       "    </tr>\n",
       "    <tr>\n",
       "      <th>2</th>\n",
       "      <td>/Organization/-The-One-Of-Them-Inc-</td>\n",
       "      <td>(THE) ONE of THEM,Inc.</td>\n",
       "      <td>http://oneofthem.jp</td>\n",
       "      <td>Apps|Games|Mobile</td>\n",
       "      <td>operating</td>\n",
       "      <td>NaN</td>\n",
       "      <td>NaN</td>\n",
       "      <td>NaN</td>\n",
       "      <td>NaN</td>\n",
       "      <td>NaN</td>\n",
       "    </tr>\n",
       "    <tr>\n",
       "      <th>3</th>\n",
       "      <td>/Organization/0-6-Com</td>\n",
       "      <td>0-6.com</td>\n",
       "      <td>http://www.0-6.com</td>\n",
       "      <td>Curated Web</td>\n",
       "      <td>operating</td>\n",
       "      <td>CHN</td>\n",
       "      <td>22</td>\n",
       "      <td>Beijing</td>\n",
       "      <td>Beijing</td>\n",
       "      <td>01-01-2007</td>\n",
       "    </tr>\n",
       "    <tr>\n",
       "      <th>4</th>\n",
       "      <td>/Organization/004-Technologies</td>\n",
       "      <td>004 Technologies</td>\n",
       "      <td>http://004gmbh.de/en/004-interact</td>\n",
       "      <td>Software</td>\n",
       "      <td>operating</td>\n",
       "      <td>USA</td>\n",
       "      <td>IL</td>\n",
       "      <td>Springfield, Illinois</td>\n",
       "      <td>Champaign</td>\n",
       "      <td>01-01-2010</td>\n",
       "    </tr>\n",
       "  </tbody>\n",
       "</table>\n",
       "</div>"
      ],
      "text/plain": [
       "                             permalink                    name  \\\n",
       "0                  /Organization/-Fame                   #fame   \n",
       "1               /Organization/-Qounter                :Qounter   \n",
       "2  /Organization/-The-One-Of-Them-Inc-  (THE) ONE of THEM,Inc.   \n",
       "3                /Organization/0-6-Com                 0-6.com   \n",
       "4       /Organization/004-Technologies        004 Technologies   \n",
       "\n",
       "                        homepage_url  \\\n",
       "0                 http://livfame.com   \n",
       "1             http://www.qounter.com   \n",
       "2                http://oneofthem.jp   \n",
       "3                 http://www.0-6.com   \n",
       "4  http://004gmbh.de/en/004-interact   \n",
       "\n",
       "                                       category_list     status country_code  \\\n",
       "0                                              Media  operating          IND   \n",
       "1  Application Platforms|Real Time|Social Network...  operating          USA   \n",
       "2                                  Apps|Games|Mobile  operating          NaN   \n",
       "3                                        Curated Web  operating          CHN   \n",
       "4                                           Software  operating          USA   \n",
       "\n",
       "  state_code                 region           city  founded_at  \n",
       "0         16                 Mumbai         Mumbai         NaN  \n",
       "1         DE             DE - Other  Delaware City  04-09-2014  \n",
       "2        NaN                    NaN            NaN         NaN  \n",
       "3         22                Beijing        Beijing  01-01-2007  \n",
       "4         IL  Springfield, Illinois      Champaign  01-01-2010  "
      ]
     },
     "execution_count": 6,
     "metadata": {},
     "output_type": "execute_result"
    }
   ],
   "source": [
    "#Checking whether the companies data are properly populated\n",
    "companies.head()"
   ]
  },
  {
   "cell_type": "code",
   "execution_count": 7,
   "id": "6f11d704",
   "metadata": {
    "scrolled": true
   },
   "outputs": [
    {
     "data": {
      "text/html": [
       "<div>\n",
       "<style scoped>\n",
       "    .dataframe tbody tr th:only-of-type {\n",
       "        vertical-align: middle;\n",
       "    }\n",
       "\n",
       "    .dataframe tbody tr th {\n",
       "        vertical-align: top;\n",
       "    }\n",
       "\n",
       "    .dataframe thead th {\n",
       "        text-align: right;\n",
       "    }\n",
       "</style>\n",
       "<table border=\"1\" class=\"dataframe\">\n",
       "  <thead>\n",
       "    <tr style=\"text-align: right;\">\n",
       "      <th></th>\n",
       "      <th>company_permalink</th>\n",
       "      <th>funding_round_permalink</th>\n",
       "      <th>funding_round_type</th>\n",
       "      <th>funding_round_code</th>\n",
       "      <th>funded_at</th>\n",
       "      <th>raised_amount_usd</th>\n",
       "    </tr>\n",
       "  </thead>\n",
       "  <tbody>\n",
       "    <tr>\n",
       "      <th>0</th>\n",
       "      <td>/organization/-fame</td>\n",
       "      <td>/funding-round/9a01d05418af9f794eebff7ace91f638</td>\n",
       "      <td>venture</td>\n",
       "      <td>B</td>\n",
       "      <td>05-01-2015</td>\n",
       "      <td>10000000.0</td>\n",
       "    </tr>\n",
       "    <tr>\n",
       "      <th>1</th>\n",
       "      <td>/ORGANIZATION/-QOUNTER</td>\n",
       "      <td>/funding-round/22dacff496eb7acb2b901dec1dfe5633</td>\n",
       "      <td>venture</td>\n",
       "      <td>A</td>\n",
       "      <td>14-10-2014</td>\n",
       "      <td>NaN</td>\n",
       "    </tr>\n",
       "    <tr>\n",
       "      <th>2</th>\n",
       "      <td>/organization/-qounter</td>\n",
       "      <td>/funding-round/b44fbb94153f6cdef13083530bb48030</td>\n",
       "      <td>seed</td>\n",
       "      <td>NaN</td>\n",
       "      <td>01-03-2014</td>\n",
       "      <td>700000.0</td>\n",
       "    </tr>\n",
       "    <tr>\n",
       "      <th>3</th>\n",
       "      <td>/ORGANIZATION/-THE-ONE-OF-THEM-INC-</td>\n",
       "      <td>/funding-round/650b8f704416801069bb178a1418776b</td>\n",
       "      <td>venture</td>\n",
       "      <td>B</td>\n",
       "      <td>30-01-2014</td>\n",
       "      <td>3406878.0</td>\n",
       "    </tr>\n",
       "    <tr>\n",
       "      <th>4</th>\n",
       "      <td>/organization/0-6-com</td>\n",
       "      <td>/funding-round/5727accaeaa57461bd22a9bdd945382d</td>\n",
       "      <td>venture</td>\n",
       "      <td>A</td>\n",
       "      <td>19-03-2008</td>\n",
       "      <td>2000000.0</td>\n",
       "    </tr>\n",
       "  </tbody>\n",
       "</table>\n",
       "</div>"
      ],
      "text/plain": [
       "                     company_permalink  \\\n",
       "0                  /organization/-fame   \n",
       "1               /ORGANIZATION/-QOUNTER   \n",
       "2               /organization/-qounter   \n",
       "3  /ORGANIZATION/-THE-ONE-OF-THEM-INC-   \n",
       "4                /organization/0-6-com   \n",
       "\n",
       "                           funding_round_permalink funding_round_type  \\\n",
       "0  /funding-round/9a01d05418af9f794eebff7ace91f638            venture   \n",
       "1  /funding-round/22dacff496eb7acb2b901dec1dfe5633            venture   \n",
       "2  /funding-round/b44fbb94153f6cdef13083530bb48030               seed   \n",
       "3  /funding-round/650b8f704416801069bb178a1418776b            venture   \n",
       "4  /funding-round/5727accaeaa57461bd22a9bdd945382d            venture   \n",
       "\n",
       "  funding_round_code   funded_at  raised_amount_usd  \n",
       "0                  B  05-01-2015         10000000.0  \n",
       "1                  A  14-10-2014                NaN  \n",
       "2                NaN  01-03-2014           700000.0  \n",
       "3                  B  30-01-2014          3406878.0  \n",
       "4                  A  19-03-2008          2000000.0  "
      ]
     },
     "execution_count": 7,
     "metadata": {},
     "output_type": "execute_result"
    }
   ],
   "source": [
    "#Checking whether the Rounds data are properly populated\n",
    "rounds2.head()"
   ]
  },
  {
   "cell_type": "markdown",
   "id": "ade98413",
   "metadata": {},
   "source": [
    "#### During Step 3 of Checkpoint 1, Got 8 records which has encoding issue. So both the dataframe were encoded and decoded to ascii"
   ]
  },
  {
   "cell_type": "code",
   "execution_count": 8,
   "id": "6255bb89",
   "metadata": {},
   "outputs": [],
   "source": [
    "rounds2[\"company_permalink\"]=rounds2[\"company_permalink\"].apply(lambda x:x.encode('utf-8').decode('ascii','ignore'))"
   ]
  },
  {
   "cell_type": "code",
   "execution_count": 9,
   "id": "e4d77805",
   "metadata": {},
   "outputs": [],
   "source": [
    "companies[\"permalink\"]=companies[\"permalink\"].apply(lambda x:x.encode('utf-8').decode('ascii','ignore'))                     "
   ]
  },
  {
   "cell_type": "markdown",
   "id": "bfab7cc2",
   "metadata": {},
   "source": [
    "#### Change the case of Permalink to Upper case and remove spaces on both the end"
   ]
  },
  {
   "cell_type": "code",
   "execution_count": 10,
   "id": "d5ec9f29",
   "metadata": {},
   "outputs": [],
   "source": [
    "companies[\"permalink\"]=companies[\"permalink\"].str.upper().str.strip()"
   ]
  },
  {
   "cell_type": "code",
   "execution_count": 11,
   "id": "072de89d",
   "metadata": {},
   "outputs": [],
   "source": [
    "rounds2[\"company_permalink\"]=rounds2[\"company_permalink\"].str.upper().str.strip()"
   ]
  },
  {
   "cell_type": "code",
   "execution_count": 12,
   "id": "19be18d8",
   "metadata": {},
   "outputs": [
    {
     "data": {
      "text/html": [
       "<div>\n",
       "<style scoped>\n",
       "    .dataframe tbody tr th:only-of-type {\n",
       "        vertical-align: middle;\n",
       "    }\n",
       "\n",
       "    .dataframe tbody tr th {\n",
       "        vertical-align: top;\n",
       "    }\n",
       "\n",
       "    .dataframe thead th {\n",
       "        text-align: right;\n",
       "    }\n",
       "</style>\n",
       "<table border=\"1\" class=\"dataframe\">\n",
       "  <thead>\n",
       "    <tr style=\"text-align: right;\">\n",
       "      <th></th>\n",
       "      <th>permalink</th>\n",
       "      <th>name</th>\n",
       "      <th>homepage_url</th>\n",
       "      <th>category_list</th>\n",
       "      <th>status</th>\n",
       "      <th>country_code</th>\n",
       "      <th>state_code</th>\n",
       "      <th>region</th>\n",
       "      <th>city</th>\n",
       "      <th>founded_at</th>\n",
       "    </tr>\n",
       "  </thead>\n",
       "  <tbody>\n",
       "    <tr>\n",
       "      <th>0</th>\n",
       "      <td>/ORGANIZATION/-FAME</td>\n",
       "      <td>#fame</td>\n",
       "      <td>http://livfame.com</td>\n",
       "      <td>Media</td>\n",
       "      <td>operating</td>\n",
       "      <td>IND</td>\n",
       "      <td>16</td>\n",
       "      <td>Mumbai</td>\n",
       "      <td>Mumbai</td>\n",
       "      <td>NaN</td>\n",
       "    </tr>\n",
       "    <tr>\n",
       "      <th>1</th>\n",
       "      <td>/ORGANIZATION/-QOUNTER</td>\n",
       "      <td>:Qounter</td>\n",
       "      <td>http://www.qounter.com</td>\n",
       "      <td>Application Platforms|Real Time|Social Network...</td>\n",
       "      <td>operating</td>\n",
       "      <td>USA</td>\n",
       "      <td>DE</td>\n",
       "      <td>DE - Other</td>\n",
       "      <td>Delaware City</td>\n",
       "      <td>04-09-2014</td>\n",
       "    </tr>\n",
       "    <tr>\n",
       "      <th>2</th>\n",
       "      <td>/ORGANIZATION/-THE-ONE-OF-THEM-INC-</td>\n",
       "      <td>(THE) ONE of THEM,Inc.</td>\n",
       "      <td>http://oneofthem.jp</td>\n",
       "      <td>Apps|Games|Mobile</td>\n",
       "      <td>operating</td>\n",
       "      <td>NaN</td>\n",
       "      <td>NaN</td>\n",
       "      <td>NaN</td>\n",
       "      <td>NaN</td>\n",
       "      <td>NaN</td>\n",
       "    </tr>\n",
       "    <tr>\n",
       "      <th>3</th>\n",
       "      <td>/ORGANIZATION/0-6-COM</td>\n",
       "      <td>0-6.com</td>\n",
       "      <td>http://www.0-6.com</td>\n",
       "      <td>Curated Web</td>\n",
       "      <td>operating</td>\n",
       "      <td>CHN</td>\n",
       "      <td>22</td>\n",
       "      <td>Beijing</td>\n",
       "      <td>Beijing</td>\n",
       "      <td>01-01-2007</td>\n",
       "    </tr>\n",
       "    <tr>\n",
       "      <th>4</th>\n",
       "      <td>/ORGANIZATION/004-TECHNOLOGIES</td>\n",
       "      <td>004 Technologies</td>\n",
       "      <td>http://004gmbh.de/en/004-interact</td>\n",
       "      <td>Software</td>\n",
       "      <td>operating</td>\n",
       "      <td>USA</td>\n",
       "      <td>IL</td>\n",
       "      <td>Springfield, Illinois</td>\n",
       "      <td>Champaign</td>\n",
       "      <td>01-01-2010</td>\n",
       "    </tr>\n",
       "  </tbody>\n",
       "</table>\n",
       "</div>"
      ],
      "text/plain": [
       "                             permalink                    name  \\\n",
       "0                  /ORGANIZATION/-FAME                   #fame   \n",
       "1               /ORGANIZATION/-QOUNTER                :Qounter   \n",
       "2  /ORGANIZATION/-THE-ONE-OF-THEM-INC-  (THE) ONE of THEM,Inc.   \n",
       "3                /ORGANIZATION/0-6-COM                 0-6.com   \n",
       "4       /ORGANIZATION/004-TECHNOLOGIES        004 Technologies   \n",
       "\n",
       "                        homepage_url  \\\n",
       "0                 http://livfame.com   \n",
       "1             http://www.qounter.com   \n",
       "2                http://oneofthem.jp   \n",
       "3                 http://www.0-6.com   \n",
       "4  http://004gmbh.de/en/004-interact   \n",
       "\n",
       "                                       category_list     status country_code  \\\n",
       "0                                              Media  operating          IND   \n",
       "1  Application Platforms|Real Time|Social Network...  operating          USA   \n",
       "2                                  Apps|Games|Mobile  operating          NaN   \n",
       "3                                        Curated Web  operating          CHN   \n",
       "4                                           Software  operating          USA   \n",
       "\n",
       "  state_code                 region           city  founded_at  \n",
       "0         16                 Mumbai         Mumbai         NaN  \n",
       "1         DE             DE - Other  Delaware City  04-09-2014  \n",
       "2        NaN                    NaN            NaN         NaN  \n",
       "3         22                Beijing        Beijing  01-01-2007  \n",
       "4         IL  Springfield, Illinois      Champaign  01-01-2010  "
      ]
     },
     "execution_count": 12,
     "metadata": {},
     "output_type": "execute_result"
    }
   ],
   "source": [
    "companies.head()"
   ]
  },
  {
   "cell_type": "code",
   "execution_count": 13,
   "id": "4a79c784",
   "metadata": {},
   "outputs": [
    {
     "data": {
      "text/html": [
       "<div>\n",
       "<style scoped>\n",
       "    .dataframe tbody tr th:only-of-type {\n",
       "        vertical-align: middle;\n",
       "    }\n",
       "\n",
       "    .dataframe tbody tr th {\n",
       "        vertical-align: top;\n",
       "    }\n",
       "\n",
       "    .dataframe thead th {\n",
       "        text-align: right;\n",
       "    }\n",
       "</style>\n",
       "<table border=\"1\" class=\"dataframe\">\n",
       "  <thead>\n",
       "    <tr style=\"text-align: right;\">\n",
       "      <th></th>\n",
       "      <th>company_permalink</th>\n",
       "      <th>funding_round_permalink</th>\n",
       "      <th>funding_round_type</th>\n",
       "      <th>funding_round_code</th>\n",
       "      <th>funded_at</th>\n",
       "      <th>raised_amount_usd</th>\n",
       "    </tr>\n",
       "  </thead>\n",
       "  <tbody>\n",
       "    <tr>\n",
       "      <th>0</th>\n",
       "      <td>/ORGANIZATION/-FAME</td>\n",
       "      <td>/funding-round/9a01d05418af9f794eebff7ace91f638</td>\n",
       "      <td>venture</td>\n",
       "      <td>B</td>\n",
       "      <td>05-01-2015</td>\n",
       "      <td>10000000.0</td>\n",
       "    </tr>\n",
       "    <tr>\n",
       "      <th>1</th>\n",
       "      <td>/ORGANIZATION/-QOUNTER</td>\n",
       "      <td>/funding-round/22dacff496eb7acb2b901dec1dfe5633</td>\n",
       "      <td>venture</td>\n",
       "      <td>A</td>\n",
       "      <td>14-10-2014</td>\n",
       "      <td>NaN</td>\n",
       "    </tr>\n",
       "    <tr>\n",
       "      <th>2</th>\n",
       "      <td>/ORGANIZATION/-QOUNTER</td>\n",
       "      <td>/funding-round/b44fbb94153f6cdef13083530bb48030</td>\n",
       "      <td>seed</td>\n",
       "      <td>NaN</td>\n",
       "      <td>01-03-2014</td>\n",
       "      <td>700000.0</td>\n",
       "    </tr>\n",
       "    <tr>\n",
       "      <th>3</th>\n",
       "      <td>/ORGANIZATION/-THE-ONE-OF-THEM-INC-</td>\n",
       "      <td>/funding-round/650b8f704416801069bb178a1418776b</td>\n",
       "      <td>venture</td>\n",
       "      <td>B</td>\n",
       "      <td>30-01-2014</td>\n",
       "      <td>3406878.0</td>\n",
       "    </tr>\n",
       "    <tr>\n",
       "      <th>4</th>\n",
       "      <td>/ORGANIZATION/0-6-COM</td>\n",
       "      <td>/funding-round/5727accaeaa57461bd22a9bdd945382d</td>\n",
       "      <td>venture</td>\n",
       "      <td>A</td>\n",
       "      <td>19-03-2008</td>\n",
       "      <td>2000000.0</td>\n",
       "    </tr>\n",
       "  </tbody>\n",
       "</table>\n",
       "</div>"
      ],
      "text/plain": [
       "                     company_permalink  \\\n",
       "0                  /ORGANIZATION/-FAME   \n",
       "1               /ORGANIZATION/-QOUNTER   \n",
       "2               /ORGANIZATION/-QOUNTER   \n",
       "3  /ORGANIZATION/-THE-ONE-OF-THEM-INC-   \n",
       "4                /ORGANIZATION/0-6-COM   \n",
       "\n",
       "                           funding_round_permalink funding_round_type  \\\n",
       "0  /funding-round/9a01d05418af9f794eebff7ace91f638            venture   \n",
       "1  /funding-round/22dacff496eb7acb2b901dec1dfe5633            venture   \n",
       "2  /funding-round/b44fbb94153f6cdef13083530bb48030               seed   \n",
       "3  /funding-round/650b8f704416801069bb178a1418776b            venture   \n",
       "4  /funding-round/5727accaeaa57461bd22a9bdd945382d            venture   \n",
       "\n",
       "  funding_round_code   funded_at  raised_amount_usd  \n",
       "0                  B  05-01-2015         10000000.0  \n",
       "1                  A  14-10-2014                NaN  \n",
       "2                NaN  01-03-2014           700000.0  \n",
       "3                  B  30-01-2014          3406878.0  \n",
       "4                  A  19-03-2008          2000000.0  "
      ]
     },
     "execution_count": 13,
     "metadata": {},
     "output_type": "execute_result"
    }
   ],
   "source": [
    "rounds2.head()"
   ]
  },
  {
   "cell_type": "markdown",
   "id": "157c56cb",
   "metadata": {},
   "source": [
    "#### S1: How many unique companies are present in rounds2?"
   ]
  },
  {
   "cell_type": "code",
   "execution_count": 14,
   "id": "fb2f3cc7",
   "metadata": {},
   "outputs": [
    {
     "data": {
      "text/plain": [
       "66368"
      ]
     },
     "execution_count": 14,
     "metadata": {},
     "output_type": "execute_result"
    }
   ],
   "source": [
    "len(pd.unique(rounds2[\"company_permalink\"]))"
   ]
  },
  {
   "cell_type": "markdown",
   "id": "ef16b7a0",
   "metadata": {},
   "source": [
    "#### S2: How many unique companies are present in the companies file?"
   ]
  },
  {
   "cell_type": "code",
   "execution_count": 15,
   "id": "8702bca1",
   "metadata": {},
   "outputs": [
    {
     "data": {
      "text/plain": [
       "66368"
      ]
     },
     "execution_count": 15,
     "metadata": {},
     "output_type": "execute_result"
    }
   ],
   "source": [
    "len(pd.unique(companies[\"permalink\"]))"
   ]
  },
  {
   "cell_type": "markdown",
   "id": "9ca8c4f0",
   "metadata": {},
   "source": [
    "#### S3: Are there any companies in the rounds2 file which are not present in companies? Answer yes or no: Y/N\t"
   ]
  },
  {
   "cell_type": "code",
   "execution_count": 16,
   "id": "9aeeda2f",
   "metadata": {},
   "outputs": [
    {
     "data": {
      "text/html": [
       "<div>\n",
       "<style scoped>\n",
       "    .dataframe tbody tr th:only-of-type {\n",
       "        vertical-align: middle;\n",
       "    }\n",
       "\n",
       "    .dataframe tbody tr th {\n",
       "        vertical-align: top;\n",
       "    }\n",
       "\n",
       "    .dataframe thead th {\n",
       "        text-align: right;\n",
       "    }\n",
       "</style>\n",
       "<table border=\"1\" class=\"dataframe\">\n",
       "  <thead>\n",
       "    <tr style=\"text-align: right;\">\n",
       "      <th></th>\n",
       "      <th>company_permalink</th>\n",
       "      <th>funding_round_permalink</th>\n",
       "      <th>funding_round_type</th>\n",
       "      <th>funding_round_code</th>\n",
       "      <th>funded_at</th>\n",
       "      <th>raised_amount_usd</th>\n",
       "    </tr>\n",
       "  </thead>\n",
       "  <tbody>\n",
       "  </tbody>\n",
       "</table>\n",
       "</div>"
      ],
      "text/plain": [
       "Empty DataFrame\n",
       "Columns: [company_permalink, funding_round_permalink, funding_round_type, funding_round_code, funded_at, raised_amount_usd]\n",
       "Index: []"
      ]
     },
     "execution_count": 16,
     "metadata": {},
     "output_type": "execute_result"
    }
   ],
   "source": [
    "rounds2[~rounds2[\"company_permalink\"].isin(companies[\"permalink\"])]"
   ]
  },
  {
   "cell_type": "markdown",
   "id": "c7d5a9f1",
   "metadata": {},
   "source": [
    "#### S4: Merge the two data frames so that all variables (columns) in the companies frame are added to the rounds2 \n",
    "data frame. Name the merged frame master_frame. How many observations are present in master_frame?"
   ]
  },
  {
   "cell_type": "code",
   "execution_count": 17,
   "id": "06659ce5",
   "metadata": {
    "scrolled": true
   },
   "outputs": [
    {
     "data": {
      "text/plain": [
       "array(['/ORGANIZATION/-FAME', '/ORGANIZATION/-QOUNTER',\n",
       "       '/ORGANIZATION/-THE-ONE-OF-THEM-INC-', ..., '/ORGANIZATION/ERON',\n",
       "       '/ORGANIZATION/ASYS-2',\n",
       "       '/ORGANIZATION/NOVATIFF-REKLAM-VE-TANTM-HIZMETLERI-TIC'],\n",
       "      dtype=object)"
      ]
     },
     "execution_count": 17,
     "metadata": {},
     "output_type": "execute_result"
    }
   ],
   "source": [
    "rounds2[\"company_permalink\"].str.upper().unique()"
   ]
  },
  {
   "cell_type": "code",
   "execution_count": 18,
   "id": "81bde9c2",
   "metadata": {},
   "outputs": [],
   "source": [
    "#Merge companies and rounds2 files using permalink as key\n",
    "master_frame=pd.merge(rounds2,companies,how='inner',left_on='company_permalink',right_on='permalink')"
   ]
  },
  {
   "cell_type": "code",
   "execution_count": 19,
   "id": "1286ee59",
   "metadata": {},
   "outputs": [
    {
     "data": {
      "text/html": [
       "<div>\n",
       "<style scoped>\n",
       "    .dataframe tbody tr th:only-of-type {\n",
       "        vertical-align: middle;\n",
       "    }\n",
       "\n",
       "    .dataframe tbody tr th {\n",
       "        vertical-align: top;\n",
       "    }\n",
       "\n",
       "    .dataframe thead th {\n",
       "        text-align: right;\n",
       "    }\n",
       "</style>\n",
       "<table border=\"1\" class=\"dataframe\">\n",
       "  <thead>\n",
       "    <tr style=\"text-align: right;\">\n",
       "      <th></th>\n",
       "      <th>company_permalink</th>\n",
       "      <th>funding_round_permalink</th>\n",
       "      <th>funding_round_type</th>\n",
       "      <th>funding_round_code</th>\n",
       "      <th>funded_at</th>\n",
       "      <th>raised_amount_usd</th>\n",
       "      <th>permalink</th>\n",
       "      <th>name</th>\n",
       "      <th>homepage_url</th>\n",
       "      <th>category_list</th>\n",
       "      <th>status</th>\n",
       "      <th>country_code</th>\n",
       "      <th>state_code</th>\n",
       "      <th>region</th>\n",
       "      <th>city</th>\n",
       "      <th>founded_at</th>\n",
       "    </tr>\n",
       "  </thead>\n",
       "  <tbody>\n",
       "    <tr>\n",
       "      <th>0</th>\n",
       "      <td>/ORGANIZATION/-FAME</td>\n",
       "      <td>/funding-round/9a01d05418af9f794eebff7ace91f638</td>\n",
       "      <td>venture</td>\n",
       "      <td>B</td>\n",
       "      <td>05-01-2015</td>\n",
       "      <td>10000000.0</td>\n",
       "      <td>/ORGANIZATION/-FAME</td>\n",
       "      <td>#fame</td>\n",
       "      <td>http://livfame.com</td>\n",
       "      <td>Media</td>\n",
       "      <td>operating</td>\n",
       "      <td>IND</td>\n",
       "      <td>16</td>\n",
       "      <td>Mumbai</td>\n",
       "      <td>Mumbai</td>\n",
       "      <td>NaN</td>\n",
       "    </tr>\n",
       "    <tr>\n",
       "      <th>1</th>\n",
       "      <td>/ORGANIZATION/-QOUNTER</td>\n",
       "      <td>/funding-round/22dacff496eb7acb2b901dec1dfe5633</td>\n",
       "      <td>venture</td>\n",
       "      <td>A</td>\n",
       "      <td>14-10-2014</td>\n",
       "      <td>NaN</td>\n",
       "      <td>/ORGANIZATION/-QOUNTER</td>\n",
       "      <td>:Qounter</td>\n",
       "      <td>http://www.qounter.com</td>\n",
       "      <td>Application Platforms|Real Time|Social Network...</td>\n",
       "      <td>operating</td>\n",
       "      <td>USA</td>\n",
       "      <td>DE</td>\n",
       "      <td>DE - Other</td>\n",
       "      <td>Delaware City</td>\n",
       "      <td>04-09-2014</td>\n",
       "    </tr>\n",
       "    <tr>\n",
       "      <th>2</th>\n",
       "      <td>/ORGANIZATION/-QOUNTER</td>\n",
       "      <td>/funding-round/b44fbb94153f6cdef13083530bb48030</td>\n",
       "      <td>seed</td>\n",
       "      <td>NaN</td>\n",
       "      <td>01-03-2014</td>\n",
       "      <td>700000.0</td>\n",
       "      <td>/ORGANIZATION/-QOUNTER</td>\n",
       "      <td>:Qounter</td>\n",
       "      <td>http://www.qounter.com</td>\n",
       "      <td>Application Platforms|Real Time|Social Network...</td>\n",
       "      <td>operating</td>\n",
       "      <td>USA</td>\n",
       "      <td>DE</td>\n",
       "      <td>DE - Other</td>\n",
       "      <td>Delaware City</td>\n",
       "      <td>04-09-2014</td>\n",
       "    </tr>\n",
       "    <tr>\n",
       "      <th>3</th>\n",
       "      <td>/ORGANIZATION/-THE-ONE-OF-THEM-INC-</td>\n",
       "      <td>/funding-round/650b8f704416801069bb178a1418776b</td>\n",
       "      <td>venture</td>\n",
       "      <td>B</td>\n",
       "      <td>30-01-2014</td>\n",
       "      <td>3406878.0</td>\n",
       "      <td>/ORGANIZATION/-THE-ONE-OF-THEM-INC-</td>\n",
       "      <td>(THE) ONE of THEM,Inc.</td>\n",
       "      <td>http://oneofthem.jp</td>\n",
       "      <td>Apps|Games|Mobile</td>\n",
       "      <td>operating</td>\n",
       "      <td>NaN</td>\n",
       "      <td>NaN</td>\n",
       "      <td>NaN</td>\n",
       "      <td>NaN</td>\n",
       "      <td>NaN</td>\n",
       "    </tr>\n",
       "    <tr>\n",
       "      <th>4</th>\n",
       "      <td>/ORGANIZATION/0-6-COM</td>\n",
       "      <td>/funding-round/5727accaeaa57461bd22a9bdd945382d</td>\n",
       "      <td>venture</td>\n",
       "      <td>A</td>\n",
       "      <td>19-03-2008</td>\n",
       "      <td>2000000.0</td>\n",
       "      <td>/ORGANIZATION/0-6-COM</td>\n",
       "      <td>0-6.com</td>\n",
       "      <td>http://www.0-6.com</td>\n",
       "      <td>Curated Web</td>\n",
       "      <td>operating</td>\n",
       "      <td>CHN</td>\n",
       "      <td>22</td>\n",
       "      <td>Beijing</td>\n",
       "      <td>Beijing</td>\n",
       "      <td>01-01-2007</td>\n",
       "    </tr>\n",
       "  </tbody>\n",
       "</table>\n",
       "</div>"
      ],
      "text/plain": [
       "                     company_permalink  \\\n",
       "0                  /ORGANIZATION/-FAME   \n",
       "1               /ORGANIZATION/-QOUNTER   \n",
       "2               /ORGANIZATION/-QOUNTER   \n",
       "3  /ORGANIZATION/-THE-ONE-OF-THEM-INC-   \n",
       "4                /ORGANIZATION/0-6-COM   \n",
       "\n",
       "                           funding_round_permalink funding_round_type  \\\n",
       "0  /funding-round/9a01d05418af9f794eebff7ace91f638            venture   \n",
       "1  /funding-round/22dacff496eb7acb2b901dec1dfe5633            venture   \n",
       "2  /funding-round/b44fbb94153f6cdef13083530bb48030               seed   \n",
       "3  /funding-round/650b8f704416801069bb178a1418776b            venture   \n",
       "4  /funding-round/5727accaeaa57461bd22a9bdd945382d            venture   \n",
       "\n",
       "  funding_round_code   funded_at  raised_amount_usd  \\\n",
       "0                  B  05-01-2015         10000000.0   \n",
       "1                  A  14-10-2014                NaN   \n",
       "2                NaN  01-03-2014           700000.0   \n",
       "3                  B  30-01-2014          3406878.0   \n",
       "4                  A  19-03-2008          2000000.0   \n",
       "\n",
       "                             permalink                    name  \\\n",
       "0                  /ORGANIZATION/-FAME                   #fame   \n",
       "1               /ORGANIZATION/-QOUNTER                :Qounter   \n",
       "2               /ORGANIZATION/-QOUNTER                :Qounter   \n",
       "3  /ORGANIZATION/-THE-ONE-OF-THEM-INC-  (THE) ONE of THEM,Inc.   \n",
       "4                /ORGANIZATION/0-6-COM                 0-6.com   \n",
       "\n",
       "             homepage_url                                      category_list  \\\n",
       "0      http://livfame.com                                              Media   \n",
       "1  http://www.qounter.com  Application Platforms|Real Time|Social Network...   \n",
       "2  http://www.qounter.com  Application Platforms|Real Time|Social Network...   \n",
       "3     http://oneofthem.jp                                  Apps|Games|Mobile   \n",
       "4      http://www.0-6.com                                        Curated Web   \n",
       "\n",
       "      status country_code state_code      region           city  founded_at  \n",
       "0  operating          IND         16      Mumbai         Mumbai         NaN  \n",
       "1  operating          USA         DE  DE - Other  Delaware City  04-09-2014  \n",
       "2  operating          USA         DE  DE - Other  Delaware City  04-09-2014  \n",
       "3  operating          NaN        NaN         NaN            NaN         NaN  \n",
       "4  operating          CHN         22     Beijing        Beijing  01-01-2007  "
      ]
     },
     "execution_count": 19,
     "metadata": {},
     "output_type": "execute_result"
    }
   ],
   "source": [
    "#Check the data after merging\n",
    "master_frame.head()"
   ]
  },
  {
   "cell_type": "code",
   "execution_count": 20,
   "id": "d6b0cb0e",
   "metadata": {},
   "outputs": [
    {
     "data": {
      "text/plain": [
       "(114949, 16)"
      ]
     },
     "execution_count": 20,
     "metadata": {},
     "output_type": "execute_result"
    }
   ],
   "source": [
    "#Check the shape after merging\n",
    "master_frame.shape"
   ]
  },
  {
   "cell_type": "code",
   "execution_count": 21,
   "id": "c15f3535",
   "metadata": {},
   "outputs": [],
   "source": [
    "#Drop the permalink, as we have company_permalink\n",
    "master_frame = master_frame.drop('permalink', axis=1)"
   ]
  },
  {
   "cell_type": "code",
   "execution_count": 22,
   "id": "07819791",
   "metadata": {},
   "outputs": [
    {
     "data": {
      "text/plain": [
       "company_permalink           0.00\n",
       "funding_round_permalink     0.00\n",
       "funding_round_type          0.00\n",
       "funding_round_code         72.91\n",
       "funded_at                   0.00\n",
       "raised_amount_usd          17.39\n",
       "name                        0.00\n",
       "homepage_url                5.34\n",
       "category_list               2.97\n",
       "status                      0.00\n",
       "country_code                7.55\n",
       "state_code                  9.52\n",
       "region                      8.84\n",
       "city                        8.84\n",
       "founded_at                 17.85\n",
       "dtype: float64"
      ]
     },
     "execution_count": 22,
     "metadata": {},
     "output_type": "execute_result"
    }
   ],
   "source": [
    "#Check the null value percentage of each column\n",
    "round(100*(master_frame.isnull().sum()/len(master_frame.index)), 2)"
   ]
  },
  {
   "cell_type": "code",
   "execution_count": 23,
   "id": "d664f68a",
   "metadata": {},
   "outputs": [],
   "source": [
    "#Data Cleaning, Remove the higher percentage null value from the dataframe\n",
    "master_frame = master_frame.drop('funding_round_code', axis=1)"
   ]
  },
  {
   "cell_type": "markdown",
   "id": "24f8fe0f",
   "metadata": {},
   "source": [
    "## Checkpoint 2: Funding Type Analysis"
   ]
  },
  {
   "cell_type": "markdown",
   "id": "9166f9da",
   "metadata": {},
   "source": [
    "#### S1-4: Representative funding amount of venture/angel/seed/private equity type"
   ]
  },
  {
   "cell_type": "code",
   "execution_count": 24,
   "id": "aab661e4",
   "metadata": {},
   "outputs": [
    {
     "data": {
      "text/plain": [
       "funding_round_type\n",
       "post_ipo_debt            168704571.82\n",
       "post_ipo_equity           82182493.87\n",
       "secondary_market          79649630.10\n",
       "private_equity            73308593.03\n",
       "undisclosed               19242370.23\n",
       "debt_financing            17043526.02\n",
       "venture                   11748949.13\n",
       "grant                      4300576.34\n",
       "convertible_note           1453438.54\n",
       "product_crowdfunding       1363131.07\n",
       "angel                       958694.47\n",
       "seed                        719818.00\n",
       "equity_crowdfunding         538368.21\n",
       "non_equity_assistance       411203.05\n",
       "Name: raised_amount_usd, dtype: object"
      ]
     },
     "execution_count": 24,
     "metadata": {},
     "output_type": "execute_result"
    }
   ],
   "source": [
    "#1. Representative funding amount of venture type\n",
    "#2. Representative funding amount of angel type\n",
    "#3. Representative funding amount of seed type\n",
    "#4. Representative funding amount of private equity type\n",
    "master_frame.groupby(by='funding_round_type')['raised_amount_usd'].mean().sort_values(ascending = False).apply(lambda x: '%.2f' % x)"
   ]
  },
  {
   "cell_type": "markdown",
   "id": "28d7ed9b",
   "metadata": {},
   "source": [
    "#### S5: Considering that Spark Funds wants to invest between 5 to 15 million USD per  investment round, which investment type is the most suitable for them?"
   ]
  },
  {
   "cell_type": "code",
   "execution_count": 25,
   "id": "1136db09",
   "metadata": {},
   "outputs": [],
   "source": [
    "#Group by Funding Type\n",
    "df=master_frame.groupby(by='funding_round_type')['raised_amount_usd'].mean().sort_values(ascending = False)"
   ]
  },
  {
   "cell_type": "code",
   "execution_count": 26,
   "id": "bfcf4eaa",
   "metadata": {},
   "outputs": [],
   "source": [
    "#Store it in a Dataframe\n",
    "df_funding_round_type=pd.DataFrame(df)"
   ]
  },
  {
   "cell_type": "code",
   "execution_count": 27,
   "id": "cbb79f43",
   "metadata": {},
   "outputs": [],
   "source": [
    "#As I was getting format issue for the amount value\n",
    "pd.set_option('display.float_format', lambda x: '%.2f' % x)"
   ]
  },
  {
   "cell_type": "code",
   "execution_count": 28,
   "id": "c838e320",
   "metadata": {},
   "outputs": [
    {
     "data": {
      "text/html": [
       "<div>\n",
       "<style scoped>\n",
       "    .dataframe tbody tr th:only-of-type {\n",
       "        vertical-align: middle;\n",
       "    }\n",
       "\n",
       "    .dataframe tbody tr th {\n",
       "        vertical-align: top;\n",
       "    }\n",
       "\n",
       "    .dataframe thead th {\n",
       "        text-align: right;\n",
       "    }\n",
       "</style>\n",
       "<table border=\"1\" class=\"dataframe\">\n",
       "  <thead>\n",
       "    <tr style=\"text-align: right;\">\n",
       "      <th></th>\n",
       "      <th>raised_amount_usd</th>\n",
       "    </tr>\n",
       "    <tr>\n",
       "      <th>funding_round_type</th>\n",
       "      <th></th>\n",
       "    </tr>\n",
       "  </thead>\n",
       "  <tbody>\n",
       "    <tr>\n",
       "      <th>post_ipo_debt</th>\n",
       "      <td>168704571.82</td>\n",
       "    </tr>\n",
       "    <tr>\n",
       "      <th>post_ipo_equity</th>\n",
       "      <td>82182493.87</td>\n",
       "    </tr>\n",
       "    <tr>\n",
       "      <th>secondary_market</th>\n",
       "      <td>79649630.10</td>\n",
       "    </tr>\n",
       "    <tr>\n",
       "      <th>private_equity</th>\n",
       "      <td>73308593.03</td>\n",
       "    </tr>\n",
       "    <tr>\n",
       "      <th>undisclosed</th>\n",
       "      <td>19242370.23</td>\n",
       "    </tr>\n",
       "    <tr>\n",
       "      <th>debt_financing</th>\n",
       "      <td>17043526.02</td>\n",
       "    </tr>\n",
       "    <tr>\n",
       "      <th>venture</th>\n",
       "      <td>11748949.13</td>\n",
       "    </tr>\n",
       "    <tr>\n",
       "      <th>grant</th>\n",
       "      <td>4300576.34</td>\n",
       "    </tr>\n",
       "    <tr>\n",
       "      <th>convertible_note</th>\n",
       "      <td>1453438.54</td>\n",
       "    </tr>\n",
       "    <tr>\n",
       "      <th>product_crowdfunding</th>\n",
       "      <td>1363131.07</td>\n",
       "    </tr>\n",
       "    <tr>\n",
       "      <th>angel</th>\n",
       "      <td>958694.47</td>\n",
       "    </tr>\n",
       "    <tr>\n",
       "      <th>seed</th>\n",
       "      <td>719818.00</td>\n",
       "    </tr>\n",
       "    <tr>\n",
       "      <th>equity_crowdfunding</th>\n",
       "      <td>538368.21</td>\n",
       "    </tr>\n",
       "    <tr>\n",
       "      <th>non_equity_assistance</th>\n",
       "      <td>411203.05</td>\n",
       "    </tr>\n",
       "  </tbody>\n",
       "</table>\n",
       "</div>"
      ],
      "text/plain": [
       "                       raised_amount_usd\n",
       "funding_round_type                      \n",
       "post_ipo_debt               168704571.82\n",
       "post_ipo_equity              82182493.87\n",
       "secondary_market             79649630.10\n",
       "private_equity               73308593.03\n",
       "undisclosed                  19242370.23\n",
       "debt_financing               17043526.02\n",
       "venture                      11748949.13\n",
       "grant                         4300576.34\n",
       "convertible_note              1453438.54\n",
       "product_crowdfunding          1363131.07\n",
       "angel                          958694.47\n",
       "seed                           719818.00\n",
       "equity_crowdfunding            538368.21\n",
       "non_equity_assistance          411203.05"
      ]
     },
     "execution_count": 28,
     "metadata": {},
     "output_type": "execute_result"
    }
   ],
   "source": [
    "#Convert the raised amount to Float\n",
    "df_funding_round_type.astype(float)"
   ]
  },
  {
   "cell_type": "code",
   "execution_count": 29,
   "id": "9939cf5a",
   "metadata": {},
   "outputs": [
    {
     "data": {
      "text/plain": [
       "funding_round_type\n",
       "post_ipo_debt             True\n",
       "post_ipo_equity           True\n",
       "secondary_market          True\n",
       "private_equity            True\n",
       "undisclosed               True\n",
       "debt_financing            True\n",
       "venture                   True\n",
       "grant                    False\n",
       "convertible_note         False\n",
       "product_crowdfunding     False\n",
       "angel                    False\n",
       "seed                     False\n",
       "equity_crowdfunding      False\n",
       "non_equity_assistance    False\n",
       "Name: raised_amount_usd, dtype: bool"
      ]
     },
     "execution_count": 29,
     "metadata": {},
     "output_type": "execute_result"
    }
   ],
   "source": [
    "#Check which funding type is greater than 5million\n",
    "(df_funding_round_type['raised_amount_usd'] > 5000000.00)"
   ]
  },
  {
   "cell_type": "code",
   "execution_count": 30,
   "id": "1789d6fb",
   "metadata": {
    "scrolled": true
   },
   "outputs": [
    {
     "data": {
      "text/plain": [
       "funding_round_type\n",
       "post_ipo_debt            False\n",
       "post_ipo_equity          False\n",
       "secondary_market         False\n",
       "private_equity           False\n",
       "undisclosed              False\n",
       "debt_financing           False\n",
       "venture                   True\n",
       "grant                     True\n",
       "convertible_note          True\n",
       "product_crowdfunding      True\n",
       "angel                     True\n",
       "seed                      True\n",
       "equity_crowdfunding       True\n",
       "non_equity_assistance     True\n",
       "Name: raised_amount_usd, dtype: bool"
      ]
     },
     "execution_count": 30,
     "metadata": {},
     "output_type": "execute_result"
    }
   ],
   "source": [
    "#Check which funding type is less than 15million\n",
    "(df_funding_round_type['raised_amount_usd'] < 15000000.00)"
   ]
  },
  {
   "cell_type": "code",
   "execution_count": 31,
   "id": "ab0163ed",
   "metadata": {},
   "outputs": [
    {
     "data": {
      "text/plain": [
       "funding_round_type\n",
       "post_ipo_debt            False\n",
       "post_ipo_equity          False\n",
       "secondary_market         False\n",
       "private_equity           False\n",
       "undisclosed              False\n",
       "debt_financing           False\n",
       "venture                   True\n",
       "grant                    False\n",
       "convertible_note         False\n",
       "product_crowdfunding     False\n",
       "angel                    False\n",
       "seed                     False\n",
       "equity_crowdfunding      False\n",
       "non_equity_assistance    False\n",
       "Name: raised_amount_usd, dtype: bool"
      ]
     },
     "execution_count": 31,
     "metadata": {},
     "output_type": "execute_result"
    }
   ],
   "source": [
    "#Combine above two conditions and check which funding type lies between the criteria\n",
    "(df_funding_round_type['raised_amount_usd'] > 5000000.00) & (df_funding_round_type['raised_amount_usd'] < 15000000.00)"
   ]
  },
  {
   "cell_type": "code",
   "execution_count": 32,
   "id": "b6bd26e4",
   "metadata": {
    "scrolled": true
   },
   "outputs": [
    {
     "data": {
      "text/html": [
       "<div>\n",
       "<style scoped>\n",
       "    .dataframe tbody tr th:only-of-type {\n",
       "        vertical-align: middle;\n",
       "    }\n",
       "\n",
       "    .dataframe tbody tr th {\n",
       "        vertical-align: top;\n",
       "    }\n",
       "\n",
       "    .dataframe thead th {\n",
       "        text-align: right;\n",
       "    }\n",
       "</style>\n",
       "<table border=\"1\" class=\"dataframe\">\n",
       "  <thead>\n",
       "    <tr style=\"text-align: right;\">\n",
       "      <th></th>\n",
       "      <th>raised_amount_usd</th>\n",
       "    </tr>\n",
       "    <tr>\n",
       "      <th>funding_round_type</th>\n",
       "      <th></th>\n",
       "    </tr>\n",
       "  </thead>\n",
       "  <tbody>\n",
       "    <tr>\n",
       "      <th>venture</th>\n",
       "      <td>11748949.13</td>\n",
       "    </tr>\n",
       "  </tbody>\n",
       "</table>\n",
       "</div>"
      ],
      "text/plain": [
       "                    raised_amount_usd\n",
       "funding_round_type                   \n",
       "venture                   11748949.13"
      ]
     },
     "execution_count": 32,
     "metadata": {},
     "output_type": "execute_result"
    }
   ],
   "source": [
    "#Using above condition get the funding type\n",
    "df_funding_round_type[(df_funding_round_type['raised_amount_usd'] > 5000000.00) & (df_funding_round_type['raised_amount_usd'] < 15000000.00)]"
   ]
  },
  {
   "cell_type": "markdown",
   "id": "425139de",
   "metadata": {},
   "source": [
    "## Checkpoint 3: Country Analysis"
   ]
  },
  {
   "cell_type": "markdown",
   "id": "b642a175",
   "metadata": {},
   "source": [
    "#### S1: Spark Funds wants to invest in countries with the highest amount of funding for the chosen investment type"
   ]
  },
  {
   "cell_type": "code",
   "execution_count": 33,
   "id": "e1d81a84",
   "metadata": {},
   "outputs": [],
   "source": [
    "#The dervied highest amount funding type related values are extracted and store it in a seperate dataframe\n",
    "venture_inv_type = master_frame.loc[master_frame['funding_round_type'] == 'venture', :]"
   ]
  },
  {
   "cell_type": "code",
   "execution_count": 34,
   "id": "a8ea0f20",
   "metadata": {
    "scrolled": true
   },
   "outputs": [
    {
     "data": {
      "text/html": [
       "<div>\n",
       "<style scoped>\n",
       "    .dataframe tbody tr th:only-of-type {\n",
       "        vertical-align: middle;\n",
       "    }\n",
       "\n",
       "    .dataframe tbody tr th {\n",
       "        vertical-align: top;\n",
       "    }\n",
       "\n",
       "    .dataframe thead th {\n",
       "        text-align: right;\n",
       "    }\n",
       "</style>\n",
       "<table border=\"1\" class=\"dataframe\">\n",
       "  <thead>\n",
       "    <tr style=\"text-align: right;\">\n",
       "      <th></th>\n",
       "      <th>company_permalink</th>\n",
       "      <th>funding_round_permalink</th>\n",
       "      <th>funding_round_type</th>\n",
       "      <th>funded_at</th>\n",
       "      <th>raised_amount_usd</th>\n",
       "      <th>name</th>\n",
       "      <th>homepage_url</th>\n",
       "      <th>category_list</th>\n",
       "      <th>status</th>\n",
       "      <th>country_code</th>\n",
       "      <th>state_code</th>\n",
       "      <th>region</th>\n",
       "      <th>city</th>\n",
       "      <th>founded_at</th>\n",
       "    </tr>\n",
       "  </thead>\n",
       "  <tbody>\n",
       "    <tr>\n",
       "      <th>0</th>\n",
       "      <td>/ORGANIZATION/-FAME</td>\n",
       "      <td>/funding-round/9a01d05418af9f794eebff7ace91f638</td>\n",
       "      <td>venture</td>\n",
       "      <td>05-01-2015</td>\n",
       "      <td>10000000.00</td>\n",
       "      <td>#fame</td>\n",
       "      <td>http://livfame.com</td>\n",
       "      <td>Media</td>\n",
       "      <td>operating</td>\n",
       "      <td>IND</td>\n",
       "      <td>16</td>\n",
       "      <td>Mumbai</td>\n",
       "      <td>Mumbai</td>\n",
       "      <td>NaN</td>\n",
       "    </tr>\n",
       "    <tr>\n",
       "      <th>1</th>\n",
       "      <td>/ORGANIZATION/-QOUNTER</td>\n",
       "      <td>/funding-round/22dacff496eb7acb2b901dec1dfe5633</td>\n",
       "      <td>venture</td>\n",
       "      <td>14-10-2014</td>\n",
       "      <td>NaN</td>\n",
       "      <td>:Qounter</td>\n",
       "      <td>http://www.qounter.com</td>\n",
       "      <td>Application Platforms|Real Time|Social Network...</td>\n",
       "      <td>operating</td>\n",
       "      <td>USA</td>\n",
       "      <td>DE</td>\n",
       "      <td>DE - Other</td>\n",
       "      <td>Delaware City</td>\n",
       "      <td>04-09-2014</td>\n",
       "    </tr>\n",
       "    <tr>\n",
       "      <th>3</th>\n",
       "      <td>/ORGANIZATION/-THE-ONE-OF-THEM-INC-</td>\n",
       "      <td>/funding-round/650b8f704416801069bb178a1418776b</td>\n",
       "      <td>venture</td>\n",
       "      <td>30-01-2014</td>\n",
       "      <td>3406878.00</td>\n",
       "      <td>(THE) ONE of THEM,Inc.</td>\n",
       "      <td>http://oneofthem.jp</td>\n",
       "      <td>Apps|Games|Mobile</td>\n",
       "      <td>operating</td>\n",
       "      <td>NaN</td>\n",
       "      <td>NaN</td>\n",
       "      <td>NaN</td>\n",
       "      <td>NaN</td>\n",
       "      <td>NaN</td>\n",
       "    </tr>\n",
       "    <tr>\n",
       "      <th>4</th>\n",
       "      <td>/ORGANIZATION/0-6-COM</td>\n",
       "      <td>/funding-round/5727accaeaa57461bd22a9bdd945382d</td>\n",
       "      <td>venture</td>\n",
       "      <td>19-03-2008</td>\n",
       "      <td>2000000.00</td>\n",
       "      <td>0-6.com</td>\n",
       "      <td>http://www.0-6.com</td>\n",
       "      <td>Curated Web</td>\n",
       "      <td>operating</td>\n",
       "      <td>CHN</td>\n",
       "      <td>22</td>\n",
       "      <td>Beijing</td>\n",
       "      <td>Beijing</td>\n",
       "      <td>01-01-2007</td>\n",
       "    </tr>\n",
       "    <tr>\n",
       "      <th>5</th>\n",
       "      <td>/ORGANIZATION/004-TECHNOLOGIES</td>\n",
       "      <td>/funding-round/1278dd4e6a37fa4b7d7e06c21b3c1830</td>\n",
       "      <td>venture</td>\n",
       "      <td>24-07-2014</td>\n",
       "      <td>NaN</td>\n",
       "      <td>004 Technologies</td>\n",
       "      <td>http://004gmbh.de/en/004-interact</td>\n",
       "      <td>Software</td>\n",
       "      <td>operating</td>\n",
       "      <td>USA</td>\n",
       "      <td>IL</td>\n",
       "      <td>Springfield, Illinois</td>\n",
       "      <td>Champaign</td>\n",
       "      <td>01-01-2010</td>\n",
       "    </tr>\n",
       "  </tbody>\n",
       "</table>\n",
       "</div>"
      ],
      "text/plain": [
       "                     company_permalink  \\\n",
       "0                  /ORGANIZATION/-FAME   \n",
       "1               /ORGANIZATION/-QOUNTER   \n",
       "3  /ORGANIZATION/-THE-ONE-OF-THEM-INC-   \n",
       "4                /ORGANIZATION/0-6-COM   \n",
       "5       /ORGANIZATION/004-TECHNOLOGIES   \n",
       "\n",
       "                           funding_round_permalink funding_round_type  \\\n",
       "0  /funding-round/9a01d05418af9f794eebff7ace91f638            venture   \n",
       "1  /funding-round/22dacff496eb7acb2b901dec1dfe5633            venture   \n",
       "3  /funding-round/650b8f704416801069bb178a1418776b            venture   \n",
       "4  /funding-round/5727accaeaa57461bd22a9bdd945382d            venture   \n",
       "5  /funding-round/1278dd4e6a37fa4b7d7e06c21b3c1830            venture   \n",
       "\n",
       "    funded_at  raised_amount_usd                    name  \\\n",
       "0  05-01-2015        10000000.00                   #fame   \n",
       "1  14-10-2014                NaN                :Qounter   \n",
       "3  30-01-2014         3406878.00  (THE) ONE of THEM,Inc.   \n",
       "4  19-03-2008         2000000.00                 0-6.com   \n",
       "5  24-07-2014                NaN        004 Technologies   \n",
       "\n",
       "                        homepage_url  \\\n",
       "0                 http://livfame.com   \n",
       "1             http://www.qounter.com   \n",
       "3                http://oneofthem.jp   \n",
       "4                 http://www.0-6.com   \n",
       "5  http://004gmbh.de/en/004-interact   \n",
       "\n",
       "                                       category_list     status country_code  \\\n",
       "0                                              Media  operating          IND   \n",
       "1  Application Platforms|Real Time|Social Network...  operating          USA   \n",
       "3                                  Apps|Games|Mobile  operating          NaN   \n",
       "4                                        Curated Web  operating          CHN   \n",
       "5                                           Software  operating          USA   \n",
       "\n",
       "  state_code                 region           city  founded_at  \n",
       "0         16                 Mumbai         Mumbai         NaN  \n",
       "1         DE             DE - Other  Delaware City  04-09-2014  \n",
       "3        NaN                    NaN            NaN         NaN  \n",
       "4         22                Beijing        Beijing  01-01-2007  \n",
       "5         IL  Springfield, Illinois      Champaign  01-01-2010  "
      ]
     },
     "execution_count": 34,
     "metadata": {},
     "output_type": "execute_result"
    }
   ],
   "source": [
    "venture_inv_type.head()"
   ]
  },
  {
   "cell_type": "markdown",
   "id": "ef56bec7",
   "metadata": {},
   "source": [
    "#### S2: Identify the top three English-speaking countries in the data frame top9."
   ]
  },
  {
   "cell_type": "code",
   "execution_count": 35,
   "id": "348546bc",
   "metadata": {},
   "outputs": [],
   "source": [
    "top9 = pd.DataFrame(venture_inv_type.groupby(by='country_code')['raised_amount_usd'].sum().sort_values(ascending = False))"
   ]
  },
  {
   "cell_type": "code",
   "execution_count": 36,
   "id": "7d2d4c23",
   "metadata": {},
   "outputs": [
    {
     "data": {
      "text/html": [
       "<div>\n",
       "<style scoped>\n",
       "    .dataframe tbody tr th:only-of-type {\n",
       "        vertical-align: middle;\n",
       "    }\n",
       "\n",
       "    .dataframe tbody tr th {\n",
       "        vertical-align: top;\n",
       "    }\n",
       "\n",
       "    .dataframe thead th {\n",
       "        text-align: right;\n",
       "    }\n",
       "</style>\n",
       "<table border=\"1\" class=\"dataframe\">\n",
       "  <thead>\n",
       "    <tr style=\"text-align: right;\">\n",
       "      <th></th>\n",
       "      <th>raised_amount_usd</th>\n",
       "    </tr>\n",
       "    <tr>\n",
       "      <th>country_code</th>\n",
       "      <th></th>\n",
       "    </tr>\n",
       "  </thead>\n",
       "  <tbody>\n",
       "    <tr>\n",
       "      <th>USA</th>\n",
       "      <td>422510842796.00</td>\n",
       "    </tr>\n",
       "    <tr>\n",
       "      <th>CHN</th>\n",
       "      <td>39835418773.00</td>\n",
       "    </tr>\n",
       "    <tr>\n",
       "      <th>GBR</th>\n",
       "      <td>20245627416.00</td>\n",
       "    </tr>\n",
       "    <tr>\n",
       "      <th>IND</th>\n",
       "      <td>14391858718.00</td>\n",
       "    </tr>\n",
       "    <tr>\n",
       "      <th>CAN</th>\n",
       "      <td>9583332317.00</td>\n",
       "    </tr>\n",
       "    <tr>\n",
       "      <th>FRA</th>\n",
       "      <td>7259536732.00</td>\n",
       "    </tr>\n",
       "    <tr>\n",
       "      <th>ISR</th>\n",
       "      <td>6907514579.00</td>\n",
       "    </tr>\n",
       "    <tr>\n",
       "      <th>DEU</th>\n",
       "      <td>6346959822.00</td>\n",
       "    </tr>\n",
       "    <tr>\n",
       "      <th>JPN</th>\n",
       "      <td>3363676611.00</td>\n",
       "    </tr>\n",
       "  </tbody>\n",
       "</table>\n",
       "</div>"
      ],
      "text/plain": [
       "              raised_amount_usd\n",
       "country_code                   \n",
       "USA             422510842796.00\n",
       "CHN              39835418773.00\n",
       "GBR              20245627416.00\n",
       "IND              14391858718.00\n",
       "CAN               9583332317.00\n",
       "FRA               7259536732.00\n",
       "ISR               6907514579.00\n",
       "DEU               6346959822.00\n",
       "JPN               3363676611.00"
      ]
     },
     "execution_count": 36,
     "metadata": {},
     "output_type": "execute_result"
    }
   ],
   "source": [
    "top9.head(9).astype(float)"
   ]
  },
  {
   "cell_type": "markdown",
   "id": "1feaa103",
   "metadata": {},
   "source": [
    "## Checkpoint 4: Sector Analysis 1"
   ]
  },
  {
   "cell_type": "markdown",
   "id": "712b2c48",
   "metadata": {},
   "source": [
    "#### S1: Extract the primary sector of each category list from the category_list column"
   ]
  },
  {
   "cell_type": "code",
   "execution_count": 37,
   "id": "871d87b5",
   "metadata": {},
   "outputs": [
    {
     "name": "stderr",
     "output_type": "stream",
     "text": [
      "<ipython-input-37-0972034084aa>:2: SettingWithCopyWarning: \n",
      "A value is trying to be set on a copy of a slice from a DataFrame.\n",
      "Try using .loc[row_indexer,col_indexer] = value instead\n",
      "\n",
      "See the caveats in the documentation: https://pandas.pydata.org/pandas-docs/stable/user_guide/indexing.html#returning-a-view-versus-a-copy\n",
      "  venture_inv_type['primary_sector']=venture_inv_type['category_list'].apply(lambda x: str(x).split('|')[0].upper().strip())\n"
     ]
    }
   ],
   "source": [
    "#Extract the primary sector of each category list from the category_list column\n",
    "venture_inv_type['primary_sector']=venture_inv_type['category_list'].apply(lambda x: str(x).split('|')[0].upper().strip())"
   ]
  },
  {
   "cell_type": "code",
   "execution_count": 38,
   "id": "4489c5f0",
   "metadata": {},
   "outputs": [
    {
     "data": {
      "text/html": [
       "<div>\n",
       "<style scoped>\n",
       "    .dataframe tbody tr th:only-of-type {\n",
       "        vertical-align: middle;\n",
       "    }\n",
       "\n",
       "    .dataframe tbody tr th {\n",
       "        vertical-align: top;\n",
       "    }\n",
       "\n",
       "    .dataframe thead th {\n",
       "        text-align: right;\n",
       "    }\n",
       "</style>\n",
       "<table border=\"1\" class=\"dataframe\">\n",
       "  <thead>\n",
       "    <tr style=\"text-align: right;\">\n",
       "      <th></th>\n",
       "      <th>company_permalink</th>\n",
       "      <th>funding_round_permalink</th>\n",
       "      <th>funding_round_type</th>\n",
       "      <th>funded_at</th>\n",
       "      <th>raised_amount_usd</th>\n",
       "      <th>name</th>\n",
       "      <th>homepage_url</th>\n",
       "      <th>category_list</th>\n",
       "      <th>status</th>\n",
       "      <th>country_code</th>\n",
       "      <th>state_code</th>\n",
       "      <th>region</th>\n",
       "      <th>city</th>\n",
       "      <th>founded_at</th>\n",
       "      <th>primary_sector</th>\n",
       "    </tr>\n",
       "  </thead>\n",
       "  <tbody>\n",
       "    <tr>\n",
       "      <th>0</th>\n",
       "      <td>/ORGANIZATION/-FAME</td>\n",
       "      <td>/funding-round/9a01d05418af9f794eebff7ace91f638</td>\n",
       "      <td>venture</td>\n",
       "      <td>05-01-2015</td>\n",
       "      <td>10000000.00</td>\n",
       "      <td>#fame</td>\n",
       "      <td>http://livfame.com</td>\n",
       "      <td>Media</td>\n",
       "      <td>operating</td>\n",
       "      <td>IND</td>\n",
       "      <td>16</td>\n",
       "      <td>Mumbai</td>\n",
       "      <td>Mumbai</td>\n",
       "      <td>NaN</td>\n",
       "      <td>MEDIA</td>\n",
       "    </tr>\n",
       "    <tr>\n",
       "      <th>1</th>\n",
       "      <td>/ORGANIZATION/-QOUNTER</td>\n",
       "      <td>/funding-round/22dacff496eb7acb2b901dec1dfe5633</td>\n",
       "      <td>venture</td>\n",
       "      <td>14-10-2014</td>\n",
       "      <td>NaN</td>\n",
       "      <td>:Qounter</td>\n",
       "      <td>http://www.qounter.com</td>\n",
       "      <td>Application Platforms|Real Time|Social Network...</td>\n",
       "      <td>operating</td>\n",
       "      <td>USA</td>\n",
       "      <td>DE</td>\n",
       "      <td>DE - Other</td>\n",
       "      <td>Delaware City</td>\n",
       "      <td>04-09-2014</td>\n",
       "      <td>APPLICATION PLATFORMS</td>\n",
       "    </tr>\n",
       "    <tr>\n",
       "      <th>3</th>\n",
       "      <td>/ORGANIZATION/-THE-ONE-OF-THEM-INC-</td>\n",
       "      <td>/funding-round/650b8f704416801069bb178a1418776b</td>\n",
       "      <td>venture</td>\n",
       "      <td>30-01-2014</td>\n",
       "      <td>3406878.00</td>\n",
       "      <td>(THE) ONE of THEM,Inc.</td>\n",
       "      <td>http://oneofthem.jp</td>\n",
       "      <td>Apps|Games|Mobile</td>\n",
       "      <td>operating</td>\n",
       "      <td>NaN</td>\n",
       "      <td>NaN</td>\n",
       "      <td>NaN</td>\n",
       "      <td>NaN</td>\n",
       "      <td>NaN</td>\n",
       "      <td>APPS</td>\n",
       "    </tr>\n",
       "    <tr>\n",
       "      <th>4</th>\n",
       "      <td>/ORGANIZATION/0-6-COM</td>\n",
       "      <td>/funding-round/5727accaeaa57461bd22a9bdd945382d</td>\n",
       "      <td>venture</td>\n",
       "      <td>19-03-2008</td>\n",
       "      <td>2000000.00</td>\n",
       "      <td>0-6.com</td>\n",
       "      <td>http://www.0-6.com</td>\n",
       "      <td>Curated Web</td>\n",
       "      <td>operating</td>\n",
       "      <td>CHN</td>\n",
       "      <td>22</td>\n",
       "      <td>Beijing</td>\n",
       "      <td>Beijing</td>\n",
       "      <td>01-01-2007</td>\n",
       "      <td>CURATED WEB</td>\n",
       "    </tr>\n",
       "    <tr>\n",
       "      <th>5</th>\n",
       "      <td>/ORGANIZATION/004-TECHNOLOGIES</td>\n",
       "      <td>/funding-round/1278dd4e6a37fa4b7d7e06c21b3c1830</td>\n",
       "      <td>venture</td>\n",
       "      <td>24-07-2014</td>\n",
       "      <td>NaN</td>\n",
       "      <td>004 Technologies</td>\n",
       "      <td>http://004gmbh.de/en/004-interact</td>\n",
       "      <td>Software</td>\n",
       "      <td>operating</td>\n",
       "      <td>USA</td>\n",
       "      <td>IL</td>\n",
       "      <td>Springfield, Illinois</td>\n",
       "      <td>Champaign</td>\n",
       "      <td>01-01-2010</td>\n",
       "      <td>SOFTWARE</td>\n",
       "    </tr>\n",
       "  </tbody>\n",
       "</table>\n",
       "</div>"
      ],
      "text/plain": [
       "                     company_permalink  \\\n",
       "0                  /ORGANIZATION/-FAME   \n",
       "1               /ORGANIZATION/-QOUNTER   \n",
       "3  /ORGANIZATION/-THE-ONE-OF-THEM-INC-   \n",
       "4                /ORGANIZATION/0-6-COM   \n",
       "5       /ORGANIZATION/004-TECHNOLOGIES   \n",
       "\n",
       "                           funding_round_permalink funding_round_type  \\\n",
       "0  /funding-round/9a01d05418af9f794eebff7ace91f638            venture   \n",
       "1  /funding-round/22dacff496eb7acb2b901dec1dfe5633            venture   \n",
       "3  /funding-round/650b8f704416801069bb178a1418776b            venture   \n",
       "4  /funding-round/5727accaeaa57461bd22a9bdd945382d            venture   \n",
       "5  /funding-round/1278dd4e6a37fa4b7d7e06c21b3c1830            venture   \n",
       "\n",
       "    funded_at  raised_amount_usd                    name  \\\n",
       "0  05-01-2015        10000000.00                   #fame   \n",
       "1  14-10-2014                NaN                :Qounter   \n",
       "3  30-01-2014         3406878.00  (THE) ONE of THEM,Inc.   \n",
       "4  19-03-2008         2000000.00                 0-6.com   \n",
       "5  24-07-2014                NaN        004 Technologies   \n",
       "\n",
       "                        homepage_url  \\\n",
       "0                 http://livfame.com   \n",
       "1             http://www.qounter.com   \n",
       "3                http://oneofthem.jp   \n",
       "4                 http://www.0-6.com   \n",
       "5  http://004gmbh.de/en/004-interact   \n",
       "\n",
       "                                       category_list     status country_code  \\\n",
       "0                                              Media  operating          IND   \n",
       "1  Application Platforms|Real Time|Social Network...  operating          USA   \n",
       "3                                  Apps|Games|Mobile  operating          NaN   \n",
       "4                                        Curated Web  operating          CHN   \n",
       "5                                           Software  operating          USA   \n",
       "\n",
       "  state_code                 region           city  founded_at  \\\n",
       "0         16                 Mumbai         Mumbai         NaN   \n",
       "1         DE             DE - Other  Delaware City  04-09-2014   \n",
       "3        NaN                    NaN            NaN         NaN   \n",
       "4         22                Beijing        Beijing  01-01-2007   \n",
       "5         IL  Springfield, Illinois      Champaign  01-01-2010   \n",
       "\n",
       "          primary_sector  \n",
       "0                  MEDIA  \n",
       "1  APPLICATION PLATFORMS  \n",
       "3                   APPS  \n",
       "4            CURATED WEB  \n",
       "5               SOFTWARE  "
      ]
     },
     "execution_count": 38,
     "metadata": {},
     "output_type": "execute_result"
    }
   ],
   "source": [
    "venture_inv_type.head()"
   ]
  },
  {
   "cell_type": "code",
   "execution_count": 39,
   "id": "6cd12324",
   "metadata": {},
   "outputs": [
    {
     "data": {
      "text/plain": [
       "(55494, 15)"
      ]
     },
     "execution_count": 39,
     "metadata": {},
     "output_type": "execute_result"
    }
   ],
   "source": [
    "#Note the shape value, as it will be useful in below steps\n",
    "venture_inv_type.shape"
   ]
  },
  {
   "cell_type": "markdown",
   "id": "87e4b241",
   "metadata": {},
   "source": [
    "#### S2: Use the mapping file 'mapping.csv' to map each primary sector to one of the eight main sectors \n",
    "#### (Note that ‘Others’ is also considered one of the main sectors)"
   ]
  },
  {
   "cell_type": "code",
   "execution_count": 40,
   "id": "e56d72f4",
   "metadata": {},
   "outputs": [],
   "source": [
    "#Read Mapping CSV file with encoding format as ISO-8859-1\n",
    "mapping= pd.read_csv(\"mapping.csv\",encoding=\"ISO-8859-1\")"
   ]
  },
  {
   "cell_type": "code",
   "execution_count": 41,
   "id": "34604d03",
   "metadata": {},
   "outputs": [
    {
     "data": {
      "text/html": [
       "<div>\n",
       "<style scoped>\n",
       "    .dataframe tbody tr th:only-of-type {\n",
       "        vertical-align: middle;\n",
       "    }\n",
       "\n",
       "    .dataframe tbody tr th {\n",
       "        vertical-align: top;\n",
       "    }\n",
       "\n",
       "    .dataframe thead th {\n",
       "        text-align: right;\n",
       "    }\n",
       "</style>\n",
       "<table border=\"1\" class=\"dataframe\">\n",
       "  <thead>\n",
       "    <tr style=\"text-align: right;\">\n",
       "      <th></th>\n",
       "      <th>category_list</th>\n",
       "      <th>Automotive &amp; Sports</th>\n",
       "      <th>Blanks</th>\n",
       "      <th>Cleantech / Semiconductors</th>\n",
       "      <th>Entertainment</th>\n",
       "      <th>Health</th>\n",
       "      <th>Manufacturing</th>\n",
       "      <th>News, Search and Messaging</th>\n",
       "      <th>Others</th>\n",
       "      <th>Social, Finance, Analytics, Advertising</th>\n",
       "    </tr>\n",
       "  </thead>\n",
       "  <tbody>\n",
       "    <tr>\n",
       "      <th>0</th>\n",
       "      <td>NaN</td>\n",
       "      <td>0</td>\n",
       "      <td>1</td>\n",
       "      <td>0</td>\n",
       "      <td>0</td>\n",
       "      <td>0</td>\n",
       "      <td>0</td>\n",
       "      <td>0</td>\n",
       "      <td>0</td>\n",
       "      <td>0</td>\n",
       "    </tr>\n",
       "    <tr>\n",
       "      <th>1</th>\n",
       "      <td>3D</td>\n",
       "      <td>0</td>\n",
       "      <td>0</td>\n",
       "      <td>0</td>\n",
       "      <td>0</td>\n",
       "      <td>0</td>\n",
       "      <td>1</td>\n",
       "      <td>0</td>\n",
       "      <td>0</td>\n",
       "      <td>0</td>\n",
       "    </tr>\n",
       "    <tr>\n",
       "      <th>2</th>\n",
       "      <td>3D Printing</td>\n",
       "      <td>0</td>\n",
       "      <td>0</td>\n",
       "      <td>0</td>\n",
       "      <td>0</td>\n",
       "      <td>0</td>\n",
       "      <td>1</td>\n",
       "      <td>0</td>\n",
       "      <td>0</td>\n",
       "      <td>0</td>\n",
       "    </tr>\n",
       "    <tr>\n",
       "      <th>3</th>\n",
       "      <td>3D Technology</td>\n",
       "      <td>0</td>\n",
       "      <td>0</td>\n",
       "      <td>0</td>\n",
       "      <td>0</td>\n",
       "      <td>0</td>\n",
       "      <td>1</td>\n",
       "      <td>0</td>\n",
       "      <td>0</td>\n",
       "      <td>0</td>\n",
       "    </tr>\n",
       "    <tr>\n",
       "      <th>4</th>\n",
       "      <td>Accounting</td>\n",
       "      <td>0</td>\n",
       "      <td>0</td>\n",
       "      <td>0</td>\n",
       "      <td>0</td>\n",
       "      <td>0</td>\n",
       "      <td>0</td>\n",
       "      <td>0</td>\n",
       "      <td>0</td>\n",
       "      <td>1</td>\n",
       "    </tr>\n",
       "  </tbody>\n",
       "</table>\n",
       "</div>"
      ],
      "text/plain": [
       "   category_list  Automotive & Sports  Blanks  Cleantech / Semiconductors  \\\n",
       "0            NaN                    0       1                           0   \n",
       "1             3D                    0       0                           0   \n",
       "2    3D Printing                    0       0                           0   \n",
       "3  3D Technology                    0       0                           0   \n",
       "4     Accounting                    0       0                           0   \n",
       "\n",
       "   Entertainment  Health  Manufacturing  News, Search and Messaging  Others  \\\n",
       "0              0       0              0                           0       0   \n",
       "1              0       0              1                           0       0   \n",
       "2              0       0              1                           0       0   \n",
       "3              0       0              1                           0       0   \n",
       "4              0       0              0                           0       0   \n",
       "\n",
       "   Social, Finance, Analytics, Advertising  \n",
       "0                                        0  \n",
       "1                                        0  \n",
       "2                                        0  \n",
       "3                                        0  \n",
       "4                                        1  "
      ]
     },
     "execution_count": 41,
     "metadata": {},
     "output_type": "execute_result"
    }
   ],
   "source": [
    "mapping.head()"
   ]
  },
  {
   "cell_type": "code",
   "execution_count": 42,
   "id": "90f8745a",
   "metadata": {},
   "outputs": [],
   "source": [
    "#In Category List, We have 0 inbetween the text, For correction need to replace with 'na' that makes the sentence correct\n",
    "#During merging, if it wasnt corrected then we will get different counts\n",
    "mapping['category_list'] = mapping['category_list'].str.replace('0','na')"
   ]
  },
  {
   "cell_type": "code",
   "execution_count": 43,
   "id": "4ccd6c17",
   "metadata": {},
   "outputs": [],
   "source": [
    "#Convert the categorylist to upper case and remove both end spaces if exists\n",
    "mapping['category_list']=mapping['category_list'].apply(lambda x: str(x).upper().strip())"
   ]
  },
  {
   "cell_type": "code",
   "execution_count": 44,
   "id": "f7a670cb",
   "metadata": {},
   "outputs": [],
   "source": [
    "#Using Melt, transform wide to long format\n",
    "mapping = mapping.melt(id_vars=\"category_list\",var_name=\"main_sector\")"
   ]
  },
  {
   "cell_type": "code",
   "execution_count": 45,
   "id": "84204c49",
   "metadata": {},
   "outputs": [
    {
     "data": {
      "text/html": [
       "<div>\n",
       "<style scoped>\n",
       "    .dataframe tbody tr th:only-of-type {\n",
       "        vertical-align: middle;\n",
       "    }\n",
       "\n",
       "    .dataframe tbody tr th {\n",
       "        vertical-align: top;\n",
       "    }\n",
       "\n",
       "    .dataframe thead th {\n",
       "        text-align: right;\n",
       "    }\n",
       "</style>\n",
       "<table border=\"1\" class=\"dataframe\">\n",
       "  <thead>\n",
       "    <tr style=\"text-align: right;\">\n",
       "      <th></th>\n",
       "      <th>category_list</th>\n",
       "      <th>main_sector</th>\n",
       "      <th>value</th>\n",
       "    </tr>\n",
       "  </thead>\n",
       "  <tbody>\n",
       "    <tr>\n",
       "      <th>0</th>\n",
       "      <td>NAN</td>\n",
       "      <td>Automotive &amp; Sports</td>\n",
       "      <td>0</td>\n",
       "    </tr>\n",
       "    <tr>\n",
       "      <th>1</th>\n",
       "      <td>3D</td>\n",
       "      <td>Automotive &amp; Sports</td>\n",
       "      <td>0</td>\n",
       "    </tr>\n",
       "    <tr>\n",
       "      <th>2</th>\n",
       "      <td>3D PRINTING</td>\n",
       "      <td>Automotive &amp; Sports</td>\n",
       "      <td>0</td>\n",
       "    </tr>\n",
       "    <tr>\n",
       "      <th>3</th>\n",
       "      <td>3D TECHNOLOGY</td>\n",
       "      <td>Automotive &amp; Sports</td>\n",
       "      <td>0</td>\n",
       "    </tr>\n",
       "    <tr>\n",
       "      <th>4</th>\n",
       "      <td>ACCOUNTING</td>\n",
       "      <td>Automotive &amp; Sports</td>\n",
       "      <td>0</td>\n",
       "    </tr>\n",
       "  </tbody>\n",
       "</table>\n",
       "</div>"
      ],
      "text/plain": [
       "   category_list          main_sector  value\n",
       "0            NAN  Automotive & Sports      0\n",
       "1             3D  Automotive & Sports      0\n",
       "2    3D PRINTING  Automotive & Sports      0\n",
       "3  3D TECHNOLOGY  Automotive & Sports      0\n",
       "4     ACCOUNTING  Automotive & Sports      0"
      ]
     },
     "execution_count": 45,
     "metadata": {},
     "output_type": "execute_result"
    }
   ],
   "source": [
    "mapping.head()"
   ]
  },
  {
   "cell_type": "code",
   "execution_count": 46,
   "id": "c4f0f497",
   "metadata": {},
   "outputs": [],
   "source": [
    "#Filter only with the value=1\n",
    "mapping=mapping[mapping['value']==1]"
   ]
  },
  {
   "cell_type": "code",
   "execution_count": 47,
   "id": "17d46259",
   "metadata": {},
   "outputs": [
    {
     "data": {
      "text/html": [
       "<div>\n",
       "<style scoped>\n",
       "    .dataframe tbody tr th:only-of-type {\n",
       "        vertical-align: middle;\n",
       "    }\n",
       "\n",
       "    .dataframe tbody tr th {\n",
       "        vertical-align: top;\n",
       "    }\n",
       "\n",
       "    .dataframe thead th {\n",
       "        text-align: right;\n",
       "    }\n",
       "</style>\n",
       "<table border=\"1\" class=\"dataframe\">\n",
       "  <thead>\n",
       "    <tr style=\"text-align: right;\">\n",
       "      <th></th>\n",
       "      <th>category_list</th>\n",
       "      <th>main_sector</th>\n",
       "      <th>value</th>\n",
       "    </tr>\n",
       "  </thead>\n",
       "  <tbody>\n",
       "    <tr>\n",
       "      <th>8</th>\n",
       "      <td>ADVENTURE TRAVEL</td>\n",
       "      <td>Automotive &amp; Sports</td>\n",
       "      <td>1</td>\n",
       "    </tr>\n",
       "    <tr>\n",
       "      <th>14</th>\n",
       "      <td>AEROSPACE</td>\n",
       "      <td>Automotive &amp; Sports</td>\n",
       "      <td>1</td>\n",
       "    </tr>\n",
       "    <tr>\n",
       "      <th>45</th>\n",
       "      <td>AUTO</td>\n",
       "      <td>Automotive &amp; Sports</td>\n",
       "      <td>1</td>\n",
       "    </tr>\n",
       "    <tr>\n",
       "      <th>46</th>\n",
       "      <td>AUTOMATED KIOSK</td>\n",
       "      <td>Automotive &amp; Sports</td>\n",
       "      <td>1</td>\n",
       "    </tr>\n",
       "    <tr>\n",
       "      <th>47</th>\n",
       "      <td>AUTOMOTIVE</td>\n",
       "      <td>Automotive &amp; Sports</td>\n",
       "      <td>1</td>\n",
       "    </tr>\n",
       "  </tbody>\n",
       "</table>\n",
       "</div>"
      ],
      "text/plain": [
       "       category_list          main_sector  value\n",
       "8   ADVENTURE TRAVEL  Automotive & Sports      1\n",
       "14         AEROSPACE  Automotive & Sports      1\n",
       "45              AUTO  Automotive & Sports      1\n",
       "46   AUTOMATED KIOSK  Automotive & Sports      1\n",
       "47        AUTOMOTIVE  Automotive & Sports      1"
      ]
     },
     "execution_count": 47,
     "metadata": {},
     "output_type": "execute_result"
    }
   ],
   "source": [
    "mapping.head()"
   ]
  },
  {
   "cell_type": "code",
   "execution_count": 48,
   "id": "3872806e",
   "metadata": {},
   "outputs": [],
   "source": [
    "#After formatting, We dont required the value which can be dropped\n",
    "mapping=mapping.drop('value',axis=1)"
   ]
  },
  {
   "cell_type": "code",
   "execution_count": 49,
   "id": "9188ceec",
   "metadata": {},
   "outputs": [
    {
     "data": {
      "text/html": [
       "<div>\n",
       "<style scoped>\n",
       "    .dataframe tbody tr th:only-of-type {\n",
       "        vertical-align: middle;\n",
       "    }\n",
       "\n",
       "    .dataframe tbody tr th {\n",
       "        vertical-align: top;\n",
       "    }\n",
       "\n",
       "    .dataframe thead th {\n",
       "        text-align: right;\n",
       "    }\n",
       "</style>\n",
       "<table border=\"1\" class=\"dataframe\">\n",
       "  <thead>\n",
       "    <tr style=\"text-align: right;\">\n",
       "      <th></th>\n",
       "      <th>category_list</th>\n",
       "      <th>main_sector</th>\n",
       "    </tr>\n",
       "  </thead>\n",
       "  <tbody>\n",
       "    <tr>\n",
       "      <th>688</th>\n",
       "      <td>NAN</td>\n",
       "      <td>Blanks</td>\n",
       "    </tr>\n",
       "  </tbody>\n",
       "</table>\n",
       "</div>"
      ],
      "text/plain": [
       "    category_list main_sector\n",
       "688           NAN      Blanks"
      ]
     },
     "execution_count": 49,
     "metadata": {},
     "output_type": "execute_result"
    }
   ],
   "source": [
    "#As part of analysis, found that we have a record with \"Blanks\" \n",
    "mapping[mapping.main_sector==\"Blanks\"]"
   ]
  },
  {
   "cell_type": "code",
   "execution_count": 50,
   "id": "439efc37",
   "metadata": {},
   "outputs": [],
   "source": [
    "#Other than Blanks, Loaded into mapping dataframe\n",
    "mapping=mapping[mapping['main_sector']!=\"Blanks\"]"
   ]
  },
  {
   "cell_type": "code",
   "execution_count": 51,
   "id": "9581c68d",
   "metadata": {},
   "outputs": [
    {
     "data": {
      "text/html": [
       "<div>\n",
       "<style scoped>\n",
       "    .dataframe tbody tr th:only-of-type {\n",
       "        vertical-align: middle;\n",
       "    }\n",
       "\n",
       "    .dataframe tbody tr th {\n",
       "        vertical-align: top;\n",
       "    }\n",
       "\n",
       "    .dataframe thead th {\n",
       "        text-align: right;\n",
       "    }\n",
       "</style>\n",
       "<table border=\"1\" class=\"dataframe\">\n",
       "  <thead>\n",
       "    <tr style=\"text-align: right;\">\n",
       "      <th></th>\n",
       "      <th>category_list</th>\n",
       "      <th>main_sector</th>\n",
       "    </tr>\n",
       "  </thead>\n",
       "  <tbody>\n",
       "  </tbody>\n",
       "</table>\n",
       "</div>"
      ],
      "text/plain": [
       "Empty DataFrame\n",
       "Columns: [category_list, main_sector]\n",
       "Index: []"
      ]
     },
     "execution_count": 51,
     "metadata": {},
     "output_type": "execute_result"
    }
   ],
   "source": [
    "#To check whether the blanks entry present after removing\n",
    "mapping[mapping.main_sector==\"Blanks\"]"
   ]
  },
  {
   "cell_type": "code",
   "execution_count": 52,
   "id": "d9c86560",
   "metadata": {},
   "outputs": [
    {
     "data": {
      "text/plain": [
       "(687, 2)"
      ]
     },
     "execution_count": 52,
     "metadata": {},
     "output_type": "execute_result"
    }
   ],
   "source": [
    "mapping.shape"
   ]
  },
  {
   "cell_type": "markdown",
   "id": "86516968",
   "metadata": {},
   "source": [
    "#### S3: Merge Venture and Mapping using Primary sector and category list"
   ]
  },
  {
   "cell_type": "code",
   "execution_count": 53,
   "id": "b60e25c6",
   "metadata": {},
   "outputs": [],
   "source": [
    "#Merging Venture Investment and Mapping with CategoryList and Primary Sector\n",
    "venture_data = pd.merge(venture_inv_type,mapping,how='inner',left_on='primary_sector',right_on='category_list',indicator=True)"
   ]
  },
  {
   "cell_type": "code",
   "execution_count": 54,
   "id": "226a4b85",
   "metadata": {},
   "outputs": [
    {
     "data": {
      "text/html": [
       "<div>\n",
       "<style scoped>\n",
       "    .dataframe tbody tr th:only-of-type {\n",
       "        vertical-align: middle;\n",
       "    }\n",
       "\n",
       "    .dataframe tbody tr th {\n",
       "        vertical-align: top;\n",
       "    }\n",
       "\n",
       "    .dataframe thead th {\n",
       "        text-align: right;\n",
       "    }\n",
       "</style>\n",
       "<table border=\"1\" class=\"dataframe\">\n",
       "  <thead>\n",
       "    <tr style=\"text-align: right;\">\n",
       "      <th></th>\n",
       "      <th>company_permalink</th>\n",
       "      <th>funding_round_permalink</th>\n",
       "      <th>funding_round_type</th>\n",
       "      <th>funded_at</th>\n",
       "      <th>raised_amount_usd</th>\n",
       "      <th>name</th>\n",
       "      <th>homepage_url</th>\n",
       "      <th>category_list_x</th>\n",
       "      <th>status</th>\n",
       "      <th>country_code</th>\n",
       "      <th>state_code</th>\n",
       "      <th>region</th>\n",
       "      <th>city</th>\n",
       "      <th>founded_at</th>\n",
       "      <th>primary_sector</th>\n",
       "      <th>category_list_y</th>\n",
       "      <th>main_sector</th>\n",
       "      <th>_merge</th>\n",
       "    </tr>\n",
       "  </thead>\n",
       "  <tbody>\n",
       "    <tr>\n",
       "      <th>0</th>\n",
       "      <td>/ORGANIZATION/-FAME</td>\n",
       "      <td>/funding-round/9a01d05418af9f794eebff7ace91f638</td>\n",
       "      <td>venture</td>\n",
       "      <td>05-01-2015</td>\n",
       "      <td>10000000.00</td>\n",
       "      <td>#fame</td>\n",
       "      <td>http://livfame.com</td>\n",
       "      <td>Media</td>\n",
       "      <td>operating</td>\n",
       "      <td>IND</td>\n",
       "      <td>16</td>\n",
       "      <td>Mumbai</td>\n",
       "      <td>Mumbai</td>\n",
       "      <td>NaN</td>\n",
       "      <td>MEDIA</td>\n",
       "      <td>MEDIA</td>\n",
       "      <td>Entertainment</td>\n",
       "      <td>both</td>\n",
       "    </tr>\n",
       "    <tr>\n",
       "      <th>1</th>\n",
       "      <td>/ORGANIZATION/90MIN</td>\n",
       "      <td>/funding-round/21a2cbf6f2fb2a1c2a61e04bf930dfe6</td>\n",
       "      <td>venture</td>\n",
       "      <td>06-10-2015</td>\n",
       "      <td>15000000.00</td>\n",
       "      <td>90min</td>\n",
       "      <td>http://www.90min.com</td>\n",
       "      <td>Media|News|Publishing|Soccer|Sports</td>\n",
       "      <td>operating</td>\n",
       "      <td>GBR</td>\n",
       "      <td>H9</td>\n",
       "      <td>London</td>\n",
       "      <td>London</td>\n",
       "      <td>01-01-2011</td>\n",
       "      <td>MEDIA</td>\n",
       "      <td>MEDIA</td>\n",
       "      <td>Entertainment</td>\n",
       "      <td>both</td>\n",
       "    </tr>\n",
       "    <tr>\n",
       "      <th>2</th>\n",
       "      <td>/ORGANIZATION/90MIN</td>\n",
       "      <td>/funding-round/bd626ed022f5c66574b1afe234f3c90d</td>\n",
       "      <td>venture</td>\n",
       "      <td>07-05-2013</td>\n",
       "      <td>5800000.00</td>\n",
       "      <td>90min</td>\n",
       "      <td>http://www.90min.com</td>\n",
       "      <td>Media|News|Publishing|Soccer|Sports</td>\n",
       "      <td>operating</td>\n",
       "      <td>GBR</td>\n",
       "      <td>H9</td>\n",
       "      <td>London</td>\n",
       "      <td>London</td>\n",
       "      <td>01-01-2011</td>\n",
       "      <td>MEDIA</td>\n",
       "      <td>MEDIA</td>\n",
       "      <td>Entertainment</td>\n",
       "      <td>both</td>\n",
       "    </tr>\n",
       "    <tr>\n",
       "      <th>3</th>\n",
       "      <td>/ORGANIZATION/90MIN</td>\n",
       "      <td>/funding-round/fd4b15e8c97ee2ffc0acccdbe1a98810</td>\n",
       "      <td>venture</td>\n",
       "      <td>26-03-2014</td>\n",
       "      <td>18000000.00</td>\n",
       "      <td>90min</td>\n",
       "      <td>http://www.90min.com</td>\n",
       "      <td>Media|News|Publishing|Soccer|Sports</td>\n",
       "      <td>operating</td>\n",
       "      <td>GBR</td>\n",
       "      <td>H9</td>\n",
       "      <td>London</td>\n",
       "      <td>London</td>\n",
       "      <td>01-01-2011</td>\n",
       "      <td>MEDIA</td>\n",
       "      <td>MEDIA</td>\n",
       "      <td>Entertainment</td>\n",
       "      <td>both</td>\n",
       "    </tr>\n",
       "    <tr>\n",
       "      <th>4</th>\n",
       "      <td>/ORGANIZATION/ALL-DEF-DIGITAL</td>\n",
       "      <td>/funding-round/452a2342fe720285c3b92e9bd927d9ba</td>\n",
       "      <td>venture</td>\n",
       "      <td>06-08-2014</td>\n",
       "      <td>5000000.00</td>\n",
       "      <td>All Def Digital</td>\n",
       "      <td>http://alldefdigital.com</td>\n",
       "      <td>Media</td>\n",
       "      <td>operating</td>\n",
       "      <td>USA</td>\n",
       "      <td>CA</td>\n",
       "      <td>Los Angeles</td>\n",
       "      <td>Los Angeles</td>\n",
       "      <td>NaN</td>\n",
       "      <td>MEDIA</td>\n",
       "      <td>MEDIA</td>\n",
       "      <td>Entertainment</td>\n",
       "      <td>both</td>\n",
       "    </tr>\n",
       "    <tr>\n",
       "      <th>...</th>\n",
       "      <td>...</td>\n",
       "      <td>...</td>\n",
       "      <td>...</td>\n",
       "      <td>...</td>\n",
       "      <td>...</td>\n",
       "      <td>...</td>\n",
       "      <td>...</td>\n",
       "      <td>...</td>\n",
       "      <td>...</td>\n",
       "      <td>...</td>\n",
       "      <td>...</td>\n",
       "      <td>...</td>\n",
       "      <td>...</td>\n",
       "      <td>...</td>\n",
       "      <td>...</td>\n",
       "      <td>...</td>\n",
       "      <td>...</td>\n",
       "      <td>...</td>\n",
       "    </tr>\n",
       "    <tr>\n",
       "      <th>54336</th>\n",
       "      <td>/ORGANIZATION/YAPTA</td>\n",
       "      <td>/funding-round/b1777df10578e852be3afbe3bc325435</td>\n",
       "      <td>venture</td>\n",
       "      <td>22-07-2013</td>\n",
       "      <td>4220000.00</td>\n",
       "      <td>Yapta</td>\n",
       "      <td>http://www.yapta.com</td>\n",
       "      <td>Tracking|Transportation|Travel</td>\n",
       "      <td>operating</td>\n",
       "      <td>USA</td>\n",
       "      <td>WA</td>\n",
       "      <td>Seattle</td>\n",
       "      <td>Seattle</td>\n",
       "      <td>01-07-2007</td>\n",
       "      <td>TRACKING</td>\n",
       "      <td>TRACKING</td>\n",
       "      <td>Others</td>\n",
       "      <td>both</td>\n",
       "    </tr>\n",
       "    <tr>\n",
       "      <th>54337</th>\n",
       "      <td>/ORGANIZATION/YAPTA</td>\n",
       "      <td>/funding-round/ed75e1064eb8b50c01c2e0b691ca9f1e</td>\n",
       "      <td>venture</td>\n",
       "      <td>25-06-2009</td>\n",
       "      <td>2000000.00</td>\n",
       "      <td>Yapta</td>\n",
       "      <td>http://www.yapta.com</td>\n",
       "      <td>Tracking|Transportation|Travel</td>\n",
       "      <td>operating</td>\n",
       "      <td>USA</td>\n",
       "      <td>WA</td>\n",
       "      <td>Seattle</td>\n",
       "      <td>Seattle</td>\n",
       "      <td>01-07-2007</td>\n",
       "      <td>TRACKING</td>\n",
       "      <td>TRACKING</td>\n",
       "      <td>Others</td>\n",
       "      <td>both</td>\n",
       "    </tr>\n",
       "    <tr>\n",
       "      <th>54338</th>\n",
       "      <td>/ORGANIZATION/YAPTA</td>\n",
       "      <td>/funding-round/fc066baf3121b060b574214612a6c946</td>\n",
       "      <td>venture</td>\n",
       "      <td>29-07-2015</td>\n",
       "      <td>1786563.00</td>\n",
       "      <td>Yapta</td>\n",
       "      <td>http://www.yapta.com</td>\n",
       "      <td>Tracking|Transportation|Travel</td>\n",
       "      <td>operating</td>\n",
       "      <td>USA</td>\n",
       "      <td>WA</td>\n",
       "      <td>Seattle</td>\n",
       "      <td>Seattle</td>\n",
       "      <td>01-07-2007</td>\n",
       "      <td>TRACKING</td>\n",
       "      <td>TRACKING</td>\n",
       "      <td>Others</td>\n",
       "      <td>both</td>\n",
       "    </tr>\n",
       "    <tr>\n",
       "      <th>54339</th>\n",
       "      <td>/ORGANIZATION/ZIFTIT</td>\n",
       "      <td>/funding-round/d5713b26dbc5e0c65ccc426377449435</td>\n",
       "      <td>venture</td>\n",
       "      <td>09-07-2013</td>\n",
       "      <td>4000000.00</td>\n",
       "      <td>Ziftit</td>\n",
       "      <td>http://www.ziftit.com</td>\n",
       "      <td>Gift Registries|Shopping</td>\n",
       "      <td>closed</td>\n",
       "      <td>USA</td>\n",
       "      <td>CA</td>\n",
       "      <td>San Diego</td>\n",
       "      <td>San Diego</td>\n",
       "      <td>01-02-2011</td>\n",
       "      <td>GIFT REGISTRIES</td>\n",
       "      <td>GIFT REGISTRIES</td>\n",
       "      <td>Others</td>\n",
       "      <td>both</td>\n",
       "    </tr>\n",
       "    <tr>\n",
       "      <th>54340</th>\n",
       "      <td>/ORGANIZATION/ZONARSYSTEMS</td>\n",
       "      <td>/funding-round/f0126dbea5d6075d8d4a1c2d106d9eca</td>\n",
       "      <td>venture</td>\n",
       "      <td>08-07-2015</td>\n",
       "      <td>50000000.00</td>\n",
       "      <td>Zonar Systems</td>\n",
       "      <td>http://www.zonarsystems.com</td>\n",
       "      <td>Task Management|Tracking</td>\n",
       "      <td>operating</td>\n",
       "      <td>USA</td>\n",
       "      <td>WA</td>\n",
       "      <td>Seattle</td>\n",
       "      <td>Seattle</td>\n",
       "      <td>01-01-2001</td>\n",
       "      <td>TASK MANAGEMENT</td>\n",
       "      <td>TASK MANAGEMENT</td>\n",
       "      <td>Others</td>\n",
       "      <td>both</td>\n",
       "    </tr>\n",
       "  </tbody>\n",
       "</table>\n",
       "<p>54341 rows × 18 columns</p>\n",
       "</div>"
      ],
      "text/plain": [
       "                   company_permalink  \\\n",
       "0                /ORGANIZATION/-FAME   \n",
       "1                /ORGANIZATION/90MIN   \n",
       "2                /ORGANIZATION/90MIN   \n",
       "3                /ORGANIZATION/90MIN   \n",
       "4      /ORGANIZATION/ALL-DEF-DIGITAL   \n",
       "...                              ...   \n",
       "54336            /ORGANIZATION/YAPTA   \n",
       "54337            /ORGANIZATION/YAPTA   \n",
       "54338            /ORGANIZATION/YAPTA   \n",
       "54339           /ORGANIZATION/ZIFTIT   \n",
       "54340     /ORGANIZATION/ZONARSYSTEMS   \n",
       "\n",
       "                               funding_round_permalink funding_round_type  \\\n",
       "0      /funding-round/9a01d05418af9f794eebff7ace91f638            venture   \n",
       "1      /funding-round/21a2cbf6f2fb2a1c2a61e04bf930dfe6            venture   \n",
       "2      /funding-round/bd626ed022f5c66574b1afe234f3c90d            venture   \n",
       "3      /funding-round/fd4b15e8c97ee2ffc0acccdbe1a98810            venture   \n",
       "4      /funding-round/452a2342fe720285c3b92e9bd927d9ba            venture   \n",
       "...                                                ...                ...   \n",
       "54336  /funding-round/b1777df10578e852be3afbe3bc325435            venture   \n",
       "54337  /funding-round/ed75e1064eb8b50c01c2e0b691ca9f1e            venture   \n",
       "54338  /funding-round/fc066baf3121b060b574214612a6c946            venture   \n",
       "54339  /funding-round/d5713b26dbc5e0c65ccc426377449435            venture   \n",
       "54340  /funding-round/f0126dbea5d6075d8d4a1c2d106d9eca            venture   \n",
       "\n",
       "        funded_at  raised_amount_usd             name  \\\n",
       "0      05-01-2015        10000000.00            #fame   \n",
       "1      06-10-2015        15000000.00            90min   \n",
       "2      07-05-2013         5800000.00            90min   \n",
       "3      26-03-2014        18000000.00            90min   \n",
       "4      06-08-2014         5000000.00  All Def Digital   \n",
       "...           ...                ...              ...   \n",
       "54336  22-07-2013         4220000.00            Yapta   \n",
       "54337  25-06-2009         2000000.00            Yapta   \n",
       "54338  29-07-2015         1786563.00            Yapta   \n",
       "54339  09-07-2013         4000000.00           Ziftit   \n",
       "54340  08-07-2015        50000000.00    Zonar Systems   \n",
       "\n",
       "                      homepage_url                      category_list_x  \\\n",
       "0               http://livfame.com                                Media   \n",
       "1             http://www.90min.com  Media|News|Publishing|Soccer|Sports   \n",
       "2             http://www.90min.com  Media|News|Publishing|Soccer|Sports   \n",
       "3             http://www.90min.com  Media|News|Publishing|Soccer|Sports   \n",
       "4         http://alldefdigital.com                                Media   \n",
       "...                            ...                                  ...   \n",
       "54336         http://www.yapta.com       Tracking|Transportation|Travel   \n",
       "54337         http://www.yapta.com       Tracking|Transportation|Travel   \n",
       "54338         http://www.yapta.com       Tracking|Transportation|Travel   \n",
       "54339        http://www.ziftit.com             Gift Registries|Shopping   \n",
       "54340  http://www.zonarsystems.com             Task Management|Tracking   \n",
       "\n",
       "          status country_code state_code       region         city  \\\n",
       "0      operating          IND         16       Mumbai       Mumbai   \n",
       "1      operating          GBR         H9       London       London   \n",
       "2      operating          GBR         H9       London       London   \n",
       "3      operating          GBR         H9       London       London   \n",
       "4      operating          USA         CA  Los Angeles  Los Angeles   \n",
       "...          ...          ...        ...          ...          ...   \n",
       "54336  operating          USA         WA      Seattle      Seattle   \n",
       "54337  operating          USA         WA      Seattle      Seattle   \n",
       "54338  operating          USA         WA      Seattle      Seattle   \n",
       "54339     closed          USA         CA    San Diego    San Diego   \n",
       "54340  operating          USA         WA      Seattle      Seattle   \n",
       "\n",
       "       founded_at   primary_sector  category_list_y    main_sector _merge  \n",
       "0             NaN            MEDIA            MEDIA  Entertainment   both  \n",
       "1      01-01-2011            MEDIA            MEDIA  Entertainment   both  \n",
       "2      01-01-2011            MEDIA            MEDIA  Entertainment   both  \n",
       "3      01-01-2011            MEDIA            MEDIA  Entertainment   both  \n",
       "4             NaN            MEDIA            MEDIA  Entertainment   both  \n",
       "...           ...              ...              ...            ...    ...  \n",
       "54336  01-07-2007         TRACKING         TRACKING         Others   both  \n",
       "54337  01-07-2007         TRACKING         TRACKING         Others   both  \n",
       "54338  01-07-2007         TRACKING         TRACKING         Others   both  \n",
       "54339  01-02-2011  GIFT REGISTRIES  GIFT REGISTRIES         Others   both  \n",
       "54340  01-01-2001  TASK MANAGEMENT  TASK MANAGEMENT         Others   both  \n",
       "\n",
       "[54341 rows x 18 columns]"
      ]
     },
     "execution_count": 54,
     "metadata": {},
     "output_type": "execute_result"
    }
   ],
   "source": [
    "venture_data"
   ]
  },
  {
   "cell_type": "code",
   "execution_count": 55,
   "id": "c547bd4f",
   "metadata": {},
   "outputs": [],
   "source": [
    "#Remove the redundant column from dataframe\n",
    "venture_data.drop(columns=['category_list_y'],inplace=True)"
   ]
  },
  {
   "cell_type": "code",
   "execution_count": 56,
   "id": "d48a4bcd",
   "metadata": {},
   "outputs": [
    {
     "data": {
      "text/plain": [
       "(54341, 17)"
      ]
     },
     "execution_count": 56,
     "metadata": {},
     "output_type": "execute_result"
    }
   ],
   "source": [
    "venture_data.shape"
   ]
  },
  {
   "cell_type": "markdown",
   "id": "1b14b8e8",
   "metadata": {},
   "source": [
    "## Checkpoint 5: Sector Analysis 2"
   ]
  },
  {
   "cell_type": "code",
   "execution_count": 57,
   "id": "8e89b208",
   "metadata": {},
   "outputs": [],
   "source": [
    "#For Easy Filtering, Typecasted country code to Upper case\n",
    "venture_data.country_code=venture_data.country_code.str.upper().str.strip()"
   ]
  },
  {
   "cell_type": "markdown",
   "id": "03fdcfea",
   "metadata": {},
   "source": [
    "#### S1: Create three separate data frames D1, D2 and D3 for each of the three countries containing the observations of funding type FT falling within the 5-15 million USD range"
   ]
  },
  {
   "cell_type": "code",
   "execution_count": 58,
   "id": "8ed467c2",
   "metadata": {},
   "outputs": [],
   "source": [
    "#Stored Countrycode=USA in D1 dataframe\n",
    "D1=venture_data[venture_data.country_code=='USA']"
   ]
  },
  {
   "cell_type": "code",
   "execution_count": 59,
   "id": "f2cd50e8",
   "metadata": {},
   "outputs": [
    {
     "data": {
      "text/html": [
       "<div>\n",
       "<style scoped>\n",
       "    .dataframe tbody tr th:only-of-type {\n",
       "        vertical-align: middle;\n",
       "    }\n",
       "\n",
       "    .dataframe tbody tr th {\n",
       "        vertical-align: top;\n",
       "    }\n",
       "\n",
       "    .dataframe thead th {\n",
       "        text-align: right;\n",
       "    }\n",
       "</style>\n",
       "<table border=\"1\" class=\"dataframe\">\n",
       "  <thead>\n",
       "    <tr style=\"text-align: right;\">\n",
       "      <th></th>\n",
       "      <th>company_permalink</th>\n",
       "      <th>funding_round_permalink</th>\n",
       "      <th>funding_round_type</th>\n",
       "      <th>funded_at</th>\n",
       "      <th>raised_amount_usd</th>\n",
       "      <th>name</th>\n",
       "      <th>homepage_url</th>\n",
       "      <th>category_list_x</th>\n",
       "      <th>status</th>\n",
       "      <th>country_code</th>\n",
       "      <th>state_code</th>\n",
       "      <th>region</th>\n",
       "      <th>city</th>\n",
       "      <th>founded_at</th>\n",
       "      <th>primary_sector</th>\n",
       "      <th>main_sector</th>\n",
       "      <th>_merge</th>\n",
       "    </tr>\n",
       "  </thead>\n",
       "  <tbody>\n",
       "    <tr>\n",
       "      <th>4</th>\n",
       "      <td>/ORGANIZATION/ALL-DEF-DIGITAL</td>\n",
       "      <td>/funding-round/452a2342fe720285c3b92e9bd927d9ba</td>\n",
       "      <td>venture</td>\n",
       "      <td>06-08-2014</td>\n",
       "      <td>5000000.00</td>\n",
       "      <td>All Def Digital</td>\n",
       "      <td>http://alldefdigital.com</td>\n",
       "      <td>Media</td>\n",
       "      <td>operating</td>\n",
       "      <td>USA</td>\n",
       "      <td>CA</td>\n",
       "      <td>Los Angeles</td>\n",
       "      <td>Los Angeles</td>\n",
       "      <td>NaN</td>\n",
       "      <td>MEDIA</td>\n",
       "      <td>Entertainment</td>\n",
       "      <td>both</td>\n",
       "    </tr>\n",
       "    <tr>\n",
       "      <th>5</th>\n",
       "      <td>/ORGANIZATION/AUDIOSOCKET</td>\n",
       "      <td>/funding-round/0959f59e3a89bc8db8c6ed9c646349fd</td>\n",
       "      <td>venture</td>\n",
       "      <td>02-05-2013</td>\n",
       "      <td>650000.00</td>\n",
       "      <td>Audiosocket</td>\n",
       "      <td>http://audiosocket.com</td>\n",
       "      <td>Media|Music|Technology</td>\n",
       "      <td>operating</td>\n",
       "      <td>USA</td>\n",
       "      <td>WA</td>\n",
       "      <td>Seattle</td>\n",
       "      <td>Seattle</td>\n",
       "      <td>01-05-2008</td>\n",
       "      <td>MEDIA</td>\n",
       "      <td>Entertainment</td>\n",
       "      <td>both</td>\n",
       "    </tr>\n",
       "    <tr>\n",
       "      <th>6</th>\n",
       "      <td>/ORGANIZATION/AUDIOSOCKET</td>\n",
       "      <td>/funding-round/4e3a53eec6c609943df752206070b23f</td>\n",
       "      <td>venture</td>\n",
       "      <td>02-09-2009</td>\n",
       "      <td>750000.00</td>\n",
       "      <td>Audiosocket</td>\n",
       "      <td>http://audiosocket.com</td>\n",
       "      <td>Media|Music|Technology</td>\n",
       "      <td>operating</td>\n",
       "      <td>USA</td>\n",
       "      <td>WA</td>\n",
       "      <td>Seattle</td>\n",
       "      <td>Seattle</td>\n",
       "      <td>01-05-2008</td>\n",
       "      <td>MEDIA</td>\n",
       "      <td>Entertainment</td>\n",
       "      <td>both</td>\n",
       "    </tr>\n",
       "    <tr>\n",
       "      <th>7</th>\n",
       "      <td>/ORGANIZATION/AUDIOSOCKET</td>\n",
       "      <td>/funding-round/bc0b412cf2fa7b739e4105ad756b47a4</td>\n",
       "      <td>venture</td>\n",
       "      <td>15-02-2012</td>\n",
       "      <td>1582300.00</td>\n",
       "      <td>Audiosocket</td>\n",
       "      <td>http://audiosocket.com</td>\n",
       "      <td>Media|Music|Technology</td>\n",
       "      <td>operating</td>\n",
       "      <td>USA</td>\n",
       "      <td>WA</td>\n",
       "      <td>Seattle</td>\n",
       "      <td>Seattle</td>\n",
       "      <td>01-05-2008</td>\n",
       "      <td>MEDIA</td>\n",
       "      <td>Entertainment</td>\n",
       "      <td>both</td>\n",
       "    </tr>\n",
       "    <tr>\n",
       "      <th>8</th>\n",
       "      <td>/ORGANIZATION/BABBLE</td>\n",
       "      <td>/funding-round/43cc678b39be3e684bb88501af05ff9b</td>\n",
       "      <td>venture</td>\n",
       "      <td>05-02-2009</td>\n",
       "      <td>2000000.00</td>\n",
       "      <td>Babble</td>\n",
       "      <td>http://www.babble.com</td>\n",
       "      <td>Media|News|Parenting</td>\n",
       "      <td>acquired</td>\n",
       "      <td>USA</td>\n",
       "      <td>NY</td>\n",
       "      <td>New York City</td>\n",
       "      <td>New York</td>\n",
       "      <td>01-12-2006</td>\n",
       "      <td>MEDIA</td>\n",
       "      <td>Entertainment</td>\n",
       "      <td>both</td>\n",
       "    </tr>\n",
       "  </tbody>\n",
       "</table>\n",
       "</div>"
      ],
      "text/plain": [
       "               company_permalink  \\\n",
       "4  /ORGANIZATION/ALL-DEF-DIGITAL   \n",
       "5      /ORGANIZATION/AUDIOSOCKET   \n",
       "6      /ORGANIZATION/AUDIOSOCKET   \n",
       "7      /ORGANIZATION/AUDIOSOCKET   \n",
       "8           /ORGANIZATION/BABBLE   \n",
       "\n",
       "                           funding_round_permalink funding_round_type  \\\n",
       "4  /funding-round/452a2342fe720285c3b92e9bd927d9ba            venture   \n",
       "5  /funding-round/0959f59e3a89bc8db8c6ed9c646349fd            venture   \n",
       "6  /funding-round/4e3a53eec6c609943df752206070b23f            venture   \n",
       "7  /funding-round/bc0b412cf2fa7b739e4105ad756b47a4            venture   \n",
       "8  /funding-round/43cc678b39be3e684bb88501af05ff9b            venture   \n",
       "\n",
       "    funded_at  raised_amount_usd             name              homepage_url  \\\n",
       "4  06-08-2014         5000000.00  All Def Digital  http://alldefdigital.com   \n",
       "5  02-05-2013          650000.00      Audiosocket    http://audiosocket.com   \n",
       "6  02-09-2009          750000.00      Audiosocket    http://audiosocket.com   \n",
       "7  15-02-2012         1582300.00      Audiosocket    http://audiosocket.com   \n",
       "8  05-02-2009         2000000.00           Babble     http://www.babble.com   \n",
       "\n",
       "          category_list_x     status country_code state_code         region  \\\n",
       "4                   Media  operating          USA         CA    Los Angeles   \n",
       "5  Media|Music|Technology  operating          USA         WA        Seattle   \n",
       "6  Media|Music|Technology  operating          USA         WA        Seattle   \n",
       "7  Media|Music|Technology  operating          USA         WA        Seattle   \n",
       "8    Media|News|Parenting   acquired          USA         NY  New York City   \n",
       "\n",
       "          city  founded_at primary_sector    main_sector _merge  \n",
       "4  Los Angeles         NaN          MEDIA  Entertainment   both  \n",
       "5      Seattle  01-05-2008          MEDIA  Entertainment   both  \n",
       "6      Seattle  01-05-2008          MEDIA  Entertainment   both  \n",
       "7      Seattle  01-05-2008          MEDIA  Entertainment   both  \n",
       "8     New York  01-12-2006          MEDIA  Entertainment   both  "
      ]
     },
     "execution_count": 59,
     "metadata": {},
     "output_type": "execute_result"
    }
   ],
   "source": [
    "D1.head()"
   ]
  },
  {
   "cell_type": "code",
   "execution_count": 60,
   "id": "118d8847",
   "metadata": {},
   "outputs": [],
   "source": [
    "#Stored Countrycode=GBR in D2 dataframe\n",
    "D2=venture_data[venture_data.country_code=='GBR']"
   ]
  },
  {
   "cell_type": "code",
   "execution_count": 61,
   "id": "ef5064a2",
   "metadata": {},
   "outputs": [
    {
     "data": {
      "text/html": [
       "<div>\n",
       "<style scoped>\n",
       "    .dataframe tbody tr th:only-of-type {\n",
       "        vertical-align: middle;\n",
       "    }\n",
       "\n",
       "    .dataframe tbody tr th {\n",
       "        vertical-align: top;\n",
       "    }\n",
       "\n",
       "    .dataframe thead th {\n",
       "        text-align: right;\n",
       "    }\n",
       "</style>\n",
       "<table border=\"1\" class=\"dataframe\">\n",
       "  <thead>\n",
       "    <tr style=\"text-align: right;\">\n",
       "      <th></th>\n",
       "      <th>company_permalink</th>\n",
       "      <th>funding_round_permalink</th>\n",
       "      <th>funding_round_type</th>\n",
       "      <th>funded_at</th>\n",
       "      <th>raised_amount_usd</th>\n",
       "      <th>name</th>\n",
       "      <th>homepage_url</th>\n",
       "      <th>category_list_x</th>\n",
       "      <th>status</th>\n",
       "      <th>country_code</th>\n",
       "      <th>state_code</th>\n",
       "      <th>region</th>\n",
       "      <th>city</th>\n",
       "      <th>founded_at</th>\n",
       "      <th>primary_sector</th>\n",
       "      <th>main_sector</th>\n",
       "      <th>_merge</th>\n",
       "    </tr>\n",
       "  </thead>\n",
       "  <tbody>\n",
       "    <tr>\n",
       "      <th>1</th>\n",
       "      <td>/ORGANIZATION/90MIN</td>\n",
       "      <td>/funding-round/21a2cbf6f2fb2a1c2a61e04bf930dfe6</td>\n",
       "      <td>venture</td>\n",
       "      <td>06-10-2015</td>\n",
       "      <td>15000000.00</td>\n",
       "      <td>90min</td>\n",
       "      <td>http://www.90min.com</td>\n",
       "      <td>Media|News|Publishing|Soccer|Sports</td>\n",
       "      <td>operating</td>\n",
       "      <td>GBR</td>\n",
       "      <td>H9</td>\n",
       "      <td>London</td>\n",
       "      <td>London</td>\n",
       "      <td>01-01-2011</td>\n",
       "      <td>MEDIA</td>\n",
       "      <td>Entertainment</td>\n",
       "      <td>both</td>\n",
       "    </tr>\n",
       "    <tr>\n",
       "      <th>2</th>\n",
       "      <td>/ORGANIZATION/90MIN</td>\n",
       "      <td>/funding-round/bd626ed022f5c66574b1afe234f3c90d</td>\n",
       "      <td>venture</td>\n",
       "      <td>07-05-2013</td>\n",
       "      <td>5800000.00</td>\n",
       "      <td>90min</td>\n",
       "      <td>http://www.90min.com</td>\n",
       "      <td>Media|News|Publishing|Soccer|Sports</td>\n",
       "      <td>operating</td>\n",
       "      <td>GBR</td>\n",
       "      <td>H9</td>\n",
       "      <td>London</td>\n",
       "      <td>London</td>\n",
       "      <td>01-01-2011</td>\n",
       "      <td>MEDIA</td>\n",
       "      <td>Entertainment</td>\n",
       "      <td>both</td>\n",
       "    </tr>\n",
       "    <tr>\n",
       "      <th>3</th>\n",
       "      <td>/ORGANIZATION/90MIN</td>\n",
       "      <td>/funding-round/fd4b15e8c97ee2ffc0acccdbe1a98810</td>\n",
       "      <td>venture</td>\n",
       "      <td>26-03-2014</td>\n",
       "      <td>18000000.00</td>\n",
       "      <td>90min</td>\n",
       "      <td>http://www.90min.com</td>\n",
       "      <td>Media|News|Publishing|Soccer|Sports</td>\n",
       "      <td>operating</td>\n",
       "      <td>GBR</td>\n",
       "      <td>H9</td>\n",
       "      <td>London</td>\n",
       "      <td>London</td>\n",
       "      <td>01-01-2011</td>\n",
       "      <td>MEDIA</td>\n",
       "      <td>Entertainment</td>\n",
       "      <td>both</td>\n",
       "    </tr>\n",
       "    <tr>\n",
       "      <th>66</th>\n",
       "      <td>/ORGANIZATION/TEEPIX</td>\n",
       "      <td>/funding-round/71b43b36b581697e603b256a13229994</td>\n",
       "      <td>venture</td>\n",
       "      <td>14-11-2007</td>\n",
       "      <td>1655405.00</td>\n",
       "      <td>Teepix</td>\n",
       "      <td>NaN</td>\n",
       "      <td>Media|Photography|Service Providers</td>\n",
       "      <td>operating</td>\n",
       "      <td>GBR</td>\n",
       "      <td>A5</td>\n",
       "      <td>London</td>\n",
       "      <td>Bedford</td>\n",
       "      <td>NaN</td>\n",
       "      <td>MEDIA</td>\n",
       "      <td>Entertainment</td>\n",
       "      <td>both</td>\n",
       "    </tr>\n",
       "    <tr>\n",
       "      <th>102</th>\n",
       "      <td>/ORGANIZATION/COMMON-INTEREST-COMMUNITIES</td>\n",
       "      <td>/funding-round/8195587cbd5e51af7514ee92ef4ba6ba</td>\n",
       "      <td>venture</td>\n",
       "      <td>09-07-2014</td>\n",
       "      <td>10000000.00</td>\n",
       "      <td>Common Interest Communities</td>\n",
       "      <td>http://commoninterestcommunities.com/</td>\n",
       "      <td>Application Platforms|Internet|Software|Startups</td>\n",
       "      <td>operating</td>\n",
       "      <td>GBR</td>\n",
       "      <td>H9</td>\n",
       "      <td>London</td>\n",
       "      <td>London</td>\n",
       "      <td>NaN</td>\n",
       "      <td>APPLICATION PLATFORMS</td>\n",
       "      <td>News, Search and Messaging</td>\n",
       "      <td>both</td>\n",
       "    </tr>\n",
       "  </tbody>\n",
       "</table>\n",
       "</div>"
      ],
      "text/plain": [
       "                             company_permalink  \\\n",
       "1                          /ORGANIZATION/90MIN   \n",
       "2                          /ORGANIZATION/90MIN   \n",
       "3                          /ORGANIZATION/90MIN   \n",
       "66                        /ORGANIZATION/TEEPIX   \n",
       "102  /ORGANIZATION/COMMON-INTEREST-COMMUNITIES   \n",
       "\n",
       "                             funding_round_permalink funding_round_type  \\\n",
       "1    /funding-round/21a2cbf6f2fb2a1c2a61e04bf930dfe6            venture   \n",
       "2    /funding-round/bd626ed022f5c66574b1afe234f3c90d            venture   \n",
       "3    /funding-round/fd4b15e8c97ee2ffc0acccdbe1a98810            venture   \n",
       "66   /funding-round/71b43b36b581697e603b256a13229994            venture   \n",
       "102  /funding-round/8195587cbd5e51af7514ee92ef4ba6ba            venture   \n",
       "\n",
       "      funded_at  raised_amount_usd                         name  \\\n",
       "1    06-10-2015        15000000.00                        90min   \n",
       "2    07-05-2013         5800000.00                        90min   \n",
       "3    26-03-2014        18000000.00                        90min   \n",
       "66   14-11-2007         1655405.00                       Teepix   \n",
       "102  09-07-2014        10000000.00  Common Interest Communities   \n",
       "\n",
       "                              homepage_url  \\\n",
       "1                     http://www.90min.com   \n",
       "2                     http://www.90min.com   \n",
       "3                     http://www.90min.com   \n",
       "66                                     NaN   \n",
       "102  http://commoninterestcommunities.com/   \n",
       "\n",
       "                                      category_list_x     status country_code  \\\n",
       "1                 Media|News|Publishing|Soccer|Sports  operating          GBR   \n",
       "2                 Media|News|Publishing|Soccer|Sports  operating          GBR   \n",
       "3                 Media|News|Publishing|Soccer|Sports  operating          GBR   \n",
       "66                Media|Photography|Service Providers  operating          GBR   \n",
       "102  Application Platforms|Internet|Software|Startups  operating          GBR   \n",
       "\n",
       "    state_code  region     city  founded_at         primary_sector  \\\n",
       "1           H9  London   London  01-01-2011                  MEDIA   \n",
       "2           H9  London   London  01-01-2011                  MEDIA   \n",
       "3           H9  London   London  01-01-2011                  MEDIA   \n",
       "66          A5  London  Bedford         NaN                  MEDIA   \n",
       "102         H9  London   London         NaN  APPLICATION PLATFORMS   \n",
       "\n",
       "                    main_sector _merge  \n",
       "1                 Entertainment   both  \n",
       "2                 Entertainment   both  \n",
       "3                 Entertainment   both  \n",
       "66                Entertainment   both  \n",
       "102  News, Search and Messaging   both  "
      ]
     },
     "execution_count": 61,
     "metadata": {},
     "output_type": "execute_result"
    }
   ],
   "source": [
    "D2.head()"
   ]
  },
  {
   "cell_type": "code",
   "execution_count": 62,
   "id": "faf249ce",
   "metadata": {},
   "outputs": [],
   "source": [
    "#Stored Countrycode=IND in D3 dataframe\n",
    "D3=venture_data[venture_data.country_code=='IND']"
   ]
  },
  {
   "cell_type": "code",
   "execution_count": 63,
   "id": "6a9b3383",
   "metadata": {
    "scrolled": false
   },
   "outputs": [
    {
     "data": {
      "text/html": [
       "<div>\n",
       "<style scoped>\n",
       "    .dataframe tbody tr th:only-of-type {\n",
       "        vertical-align: middle;\n",
       "    }\n",
       "\n",
       "    .dataframe tbody tr th {\n",
       "        vertical-align: top;\n",
       "    }\n",
       "\n",
       "    .dataframe thead th {\n",
       "        text-align: right;\n",
       "    }\n",
       "</style>\n",
       "<table border=\"1\" class=\"dataframe\">\n",
       "  <thead>\n",
       "    <tr style=\"text-align: right;\">\n",
       "      <th></th>\n",
       "      <th>company_permalink</th>\n",
       "      <th>funding_round_permalink</th>\n",
       "      <th>funding_round_type</th>\n",
       "      <th>funded_at</th>\n",
       "      <th>raised_amount_usd</th>\n",
       "      <th>name</th>\n",
       "      <th>homepage_url</th>\n",
       "      <th>category_list_x</th>\n",
       "      <th>status</th>\n",
       "      <th>country_code</th>\n",
       "      <th>state_code</th>\n",
       "      <th>region</th>\n",
       "      <th>city</th>\n",
       "      <th>founded_at</th>\n",
       "      <th>primary_sector</th>\n",
       "      <th>main_sector</th>\n",
       "      <th>_merge</th>\n",
       "    </tr>\n",
       "  </thead>\n",
       "  <tbody>\n",
       "    <tr>\n",
       "      <th>0</th>\n",
       "      <td>/ORGANIZATION/-FAME</td>\n",
       "      <td>/funding-round/9a01d05418af9f794eebff7ace91f638</td>\n",
       "      <td>venture</td>\n",
       "      <td>05-01-2015</td>\n",
       "      <td>10000000.00</td>\n",
       "      <td>#fame</td>\n",
       "      <td>http://livfame.com</td>\n",
       "      <td>Media</td>\n",
       "      <td>operating</td>\n",
       "      <td>IND</td>\n",
       "      <td>16</td>\n",
       "      <td>Mumbai</td>\n",
       "      <td>Mumbai</td>\n",
       "      <td>NaN</td>\n",
       "      <td>MEDIA</td>\n",
       "      <td>Entertainment</td>\n",
       "      <td>both</td>\n",
       "    </tr>\n",
       "    <tr>\n",
       "      <th>32</th>\n",
       "      <td>/ORGANIZATION/MANAS-INFORMATICS</td>\n",
       "      <td>/funding-round/719e50301803d3918ffa558fc877e41c</td>\n",
       "      <td>venture</td>\n",
       "      <td>02-02-2008</td>\n",
       "      <td>160000.00</td>\n",
       "      <td>Manas Informatic</td>\n",
       "      <td>http://www.topnews.in</td>\n",
       "      <td>Media|News</td>\n",
       "      <td>operating</td>\n",
       "      <td>IND</td>\n",
       "      <td>23</td>\n",
       "      <td>Mohali</td>\n",
       "      <td>Mohali</td>\n",
       "      <td>05-05-2007</td>\n",
       "      <td>MEDIA</td>\n",
       "      <td>Entertainment</td>\n",
       "      <td>both</td>\n",
       "    </tr>\n",
       "    <tr>\n",
       "      <th>243</th>\n",
       "      <td>/ORGANIZATION/BIRDS-EYE-SYSTEMS</td>\n",
       "      <td>/funding-round/efd4b1671334857feb157972242abf2d</td>\n",
       "      <td>venture</td>\n",
       "      <td>30-09-2014</td>\n",
       "      <td>NaN</td>\n",
       "      <td>Birds Eye Systems</td>\n",
       "      <td>http://birdseyetech.com</td>\n",
       "      <td>Apps|Mobile|Transportation</td>\n",
       "      <td>operating</td>\n",
       "      <td>IND</td>\n",
       "      <td>16</td>\n",
       "      <td>Mumbai</td>\n",
       "      <td>Mumbai</td>\n",
       "      <td>01-01-2010</td>\n",
       "      <td>APPS</td>\n",
       "      <td>News, Search and Messaging</td>\n",
       "      <td>both</td>\n",
       "    </tr>\n",
       "    <tr>\n",
       "      <th>250</th>\n",
       "      <td>/ORGANIZATION/BOBBLE-APP</td>\n",
       "      <td>/funding-round/9697feaa99067a22cd3ae09195001343</td>\n",
       "      <td>venture</td>\n",
       "      <td>05-11-2015</td>\n",
       "      <td>NaN</td>\n",
       "      <td>Bobble App</td>\n",
       "      <td>http://www.bobbleapp.me/</td>\n",
       "      <td>Apps|Mobile|Personalization|Software</td>\n",
       "      <td>operating</td>\n",
       "      <td>IND</td>\n",
       "      <td>7</td>\n",
       "      <td>New Delhi</td>\n",
       "      <td>New Delhi</td>\n",
       "      <td>NaN</td>\n",
       "      <td>APPS</td>\n",
       "      <td>News, Search and Messaging</td>\n",
       "      <td>both</td>\n",
       "    </tr>\n",
       "    <tr>\n",
       "      <th>279</th>\n",
       "      <td>/ORGANIZATION/CHILLR-2</td>\n",
       "      <td>/funding-round/c5477ed0c5d0f47db4d010094abcd317</td>\n",
       "      <td>venture</td>\n",
       "      <td>02-10-2015</td>\n",
       "      <td>6000000.00</td>\n",
       "      <td>Chillr</td>\n",
       "      <td>http://chillr.in</td>\n",
       "      <td>Apps|Banking|Mobile Payments</td>\n",
       "      <td>operating</td>\n",
       "      <td>IND</td>\n",
       "      <td>13</td>\n",
       "      <td>Cochin</td>\n",
       "      <td>Cochin</td>\n",
       "      <td>22-12-2013</td>\n",
       "      <td>APPS</td>\n",
       "      <td>News, Search and Messaging</td>\n",
       "      <td>both</td>\n",
       "    </tr>\n",
       "  </tbody>\n",
       "</table>\n",
       "</div>"
      ],
      "text/plain": [
       "                   company_permalink  \\\n",
       "0                /ORGANIZATION/-FAME   \n",
       "32   /ORGANIZATION/MANAS-INFORMATICS   \n",
       "243  /ORGANIZATION/BIRDS-EYE-SYSTEMS   \n",
       "250         /ORGANIZATION/BOBBLE-APP   \n",
       "279           /ORGANIZATION/CHILLR-2   \n",
       "\n",
       "                             funding_round_permalink funding_round_type  \\\n",
       "0    /funding-round/9a01d05418af9f794eebff7ace91f638            venture   \n",
       "32   /funding-round/719e50301803d3918ffa558fc877e41c            venture   \n",
       "243  /funding-round/efd4b1671334857feb157972242abf2d            venture   \n",
       "250  /funding-round/9697feaa99067a22cd3ae09195001343            venture   \n",
       "279  /funding-round/c5477ed0c5d0f47db4d010094abcd317            venture   \n",
       "\n",
       "      funded_at  raised_amount_usd               name  \\\n",
       "0    05-01-2015        10000000.00              #fame   \n",
       "32   02-02-2008          160000.00   Manas Informatic   \n",
       "243  30-09-2014                NaN  Birds Eye Systems   \n",
       "250  05-11-2015                NaN         Bobble App   \n",
       "279  02-10-2015         6000000.00             Chillr   \n",
       "\n",
       "                 homepage_url                       category_list_x  \\\n",
       "0          http://livfame.com                                 Media   \n",
       "32      http://www.topnews.in                            Media|News   \n",
       "243   http://birdseyetech.com            Apps|Mobile|Transportation   \n",
       "250  http://www.bobbleapp.me/  Apps|Mobile|Personalization|Software   \n",
       "279          http://chillr.in          Apps|Banking|Mobile Payments   \n",
       "\n",
       "        status country_code state_code     region       city  founded_at  \\\n",
       "0    operating          IND         16     Mumbai     Mumbai         NaN   \n",
       "32   operating          IND         23     Mohali     Mohali  05-05-2007   \n",
       "243  operating          IND         16     Mumbai     Mumbai  01-01-2010   \n",
       "250  operating          IND          7  New Delhi  New Delhi         NaN   \n",
       "279  operating          IND         13     Cochin     Cochin  22-12-2013   \n",
       "\n",
       "    primary_sector                 main_sector _merge  \n",
       "0            MEDIA               Entertainment   both  \n",
       "32           MEDIA               Entertainment   both  \n",
       "243           APPS  News, Search and Messaging   both  \n",
       "250           APPS  News, Search and Messaging   both  \n",
       "279           APPS  News, Search and Messaging   both  "
      ]
     },
     "execution_count": 63,
     "metadata": {},
     "output_type": "execute_result"
    }
   ],
   "source": [
    "D3.head()"
   ]
  },
  {
   "cell_type": "markdown",
   "id": "3016923e",
   "metadata": {},
   "source": [
    "#### S2: Total number of Investments (count)"
   ]
  },
  {
   "cell_type": "code",
   "execution_count": 64,
   "id": "234bae21",
   "metadata": {},
   "outputs": [
    {
     "data": {
      "text/plain": [
       "(38020, 17)"
      ]
     },
     "execution_count": 64,
     "metadata": {},
     "output_type": "execute_result"
    }
   ],
   "source": [
    "#Total number of Investments in USA\n",
    "D1.shape"
   ]
  },
  {
   "cell_type": "code",
   "execution_count": 65,
   "id": "03c612ed",
   "metadata": {},
   "outputs": [
    {
     "data": {
      "text/plain": [
       "(2264, 17)"
      ]
     },
     "execution_count": 65,
     "metadata": {},
     "output_type": "execute_result"
    }
   ],
   "source": [
    "#Total number of Investments in GBR\n",
    "D2.shape"
   ]
  },
  {
   "cell_type": "code",
   "execution_count": 66,
   "id": "396f67f1",
   "metadata": {},
   "outputs": [
    {
     "data": {
      "text/plain": [
       "(984, 17)"
      ]
     },
     "execution_count": 66,
     "metadata": {},
     "output_type": "execute_result"
    }
   ],
   "source": [
    "#Total number of Investments in IND\n",
    "D3.shape"
   ]
  },
  {
   "cell_type": "markdown",
   "id": "d85f2900",
   "metadata": {},
   "source": [
    "#### S3: Total amount of investment (USD)"
   ]
  },
  {
   "cell_type": "code",
   "execution_count": 67,
   "id": "f35653de",
   "metadata": {},
   "outputs": [
    {
     "data": {
      "text/plain": [
       "main_sector\n",
       "Cleantech / Semiconductors                 119931874301.00\n",
       "Social, Finance, Analytics, Advertising     86331402349.00\n",
       "Others                                      82796823598.00\n",
       "News, Search and Messaging                  45600521085.00\n",
       "Health                                      31675057766.00\n",
       "Manufacturing                               24845319470.00\n",
       "Entertainment                               17014560960.00\n",
       "Automotive & Sports                         11632164696.00\n",
       "Name: raised_amount_usd, dtype: object"
      ]
     },
     "execution_count": 67,
     "metadata": {},
     "output_type": "execute_result"
    }
   ],
   "source": [
    "# Amount of investment (USD) in USA\n",
    "D1.groupby(by='main_sector')['raised_amount_usd'].sum().sort_values(ascending = False).apply(lambda x: '%.2f' % x)"
   ]
  },
  {
   "cell_type": "code",
   "execution_count": 68,
   "id": "ca4bb66c",
   "metadata": {},
   "outputs": [
    {
     "data": {
      "text/plain": [
       "419827724225.0"
      ]
     },
     "execution_count": 68,
     "metadata": {},
     "output_type": "execute_result"
    }
   ],
   "source": [
    "#Total amount of investment (USD) in USA\n",
    "D1.raised_amount_usd.sum()"
   ]
  },
  {
   "cell_type": "code",
   "execution_count": 69,
   "id": "ba2a545d",
   "metadata": {},
   "outputs": [
    {
     "data": {
      "text/plain": [
       "main_sector\n",
       "Cleantech / Semiconductors                 5073290093.00\n",
       "Others                                     4492219646.00\n",
       "Social, Finance, Analytics, Advertising    3773328672.00\n",
       "News, Search and Messaging                 2956023749.00\n",
       "Entertainment                              1162564878.00\n",
       "Health                                     1046654806.00\n",
       "Manufacturing                              1019283214.00\n",
       "Automotive & Sports                         480878712.00\n",
       "Name: raised_amount_usd, dtype: object"
      ]
     },
     "execution_count": 69,
     "metadata": {},
     "output_type": "execute_result"
    }
   ],
   "source": [
    "#Amount of investment (USD) in GBR\n",
    "D2.groupby(by='main_sector')['raised_amount_usd'].sum().sort_values(ascending = False).apply(lambda x: '%.2f' % x)"
   ]
  },
  {
   "cell_type": "code",
   "execution_count": 70,
   "id": "1aa146fa",
   "metadata": {},
   "outputs": [
    {
     "data": {
      "text/plain": [
       "20004243770.0"
      ]
     },
     "execution_count": 70,
     "metadata": {},
     "output_type": "execute_result"
    }
   ],
   "source": [
    "#Total amount of investment (USD) in GBR\n",
    "D2.raised_amount_usd.sum()"
   ]
  },
  {
   "cell_type": "code",
   "execution_count": 71,
   "id": "a3edb37e",
   "metadata": {
    "scrolled": true
   },
   "outputs": [
    {
     "data": {
      "text/plain": [
       "main_sector\n",
       "Others                                     6329507440.00\n",
       "News, Search and Messaging                 1739579948.00\n",
       "Social, Finance, Analytics, Advertising    1578804920.00\n",
       "Automotive & Sports                        1556350000.00\n",
       "Entertainment                               976191777.00\n",
       "Cleantech / Semiconductors                  786444633.00\n",
       "Manufacturing                               730260000.00\n",
       "Health                                      564370000.00\n",
       "Name: raised_amount_usd, dtype: object"
      ]
     },
     "execution_count": 71,
     "metadata": {},
     "output_type": "execute_result"
    }
   ],
   "source": [
    "#Amount of investment (USD) in IND\n",
    "D3.groupby(by='main_sector')['raised_amount_usd'].sum().sort_values(ascending = False).apply(lambda x: '%.2f' % x)"
   ]
  },
  {
   "cell_type": "code",
   "execution_count": 72,
   "id": "e5f08b7e",
   "metadata": {},
   "outputs": [
    {
     "data": {
      "text/plain": [
       "14261508718.0"
      ]
     },
     "execution_count": 72,
     "metadata": {},
     "output_type": "execute_result"
    }
   ],
   "source": [
    "#Total amount of investment (USD) in IND\n",
    "D3.raised_amount_usd.sum()"
   ]
  },
  {
   "cell_type": "markdown",
   "id": "be378768",
   "metadata": {},
   "source": [
    "#### S4: Top Sector name (no. of investment-wise) , Second Sector name (no. of investment-wise) , Third Sector name (no. of investment-wise) , Number of investments in top sector (3), Number of investments in second sector (4) , Number of investments in third sector (5)"
   ]
  },
  {
   "cell_type": "code",
   "execution_count": 73,
   "id": "c4fee7f3",
   "metadata": {},
   "outputs": [
    {
     "data": {
      "text/plain": [
       "main_sector\n",
       "Others                                     8763\n",
       "Cleantech / Semiconductors                 8268\n",
       "Social, Finance, Analytics, Advertising    7822\n",
       "Name: main_sector, dtype: int64"
      ]
     },
     "execution_count": 73,
     "metadata": {},
     "output_type": "execute_result"
    }
   ],
   "source": [
    "#USA Sector Details\n",
    "D1.groupby(by='main_sector')['main_sector'].count().sort_values(ascending = False).head(3)"
   ]
  },
  {
   "cell_type": "code",
   "execution_count": 74,
   "id": "461074e2",
   "metadata": {
    "scrolled": true
   },
   "outputs": [
    {
     "data": {
      "text/plain": [
       "main_sector\n",
       "Others                                     580\n",
       "Social, Finance, Analytics, Advertising    481\n",
       "Cleantech / Semiconductors                 466\n",
       "Name: main_sector, dtype: int64"
      ]
     },
     "execution_count": 74,
     "metadata": {},
     "output_type": "execute_result"
    }
   ],
   "source": [
    "#GBR Sector Details\n",
    "D2.groupby(by='main_sector')['main_sector'].count().sort_values(ascending = False).head(3)"
   ]
  },
  {
   "cell_type": "code",
   "execution_count": 75,
   "id": "5ee06f0b",
   "metadata": {},
   "outputs": [
    {
     "data": {
      "text/plain": [
       "main_sector\n",
       "Others                                     332\n",
       "Social, Finance, Analytics, Advertising    193\n",
       "News, Search and Messaging                 154\n",
       "Name: main_sector, dtype: int64"
      ]
     },
     "execution_count": 75,
     "metadata": {},
     "output_type": "execute_result"
    }
   ],
   "source": [
    "#IND Sector Details\n",
    "D3.groupby(by='main_sector')['main_sector'].count().sort_values(ascending = False).head(3)"
   ]
  },
  {
   "cell_type": "markdown",
   "id": "982da42b",
   "metadata": {},
   "source": [
    "#### S5: For point 3 (top sector count-wise), which company received the highest investment?"
   ]
  },
  {
   "cell_type": "code",
   "execution_count": 76,
   "id": "c6ac62b5",
   "metadata": {},
   "outputs": [
    {
     "data": {
      "text/plain": [
       "company_permalink\n",
       "/ORGANIZATION/TERASCALA           13\n",
       "/ORGANIZATION/VECTORMAX           12\n",
       "/ORGANIZATION/LECERE              11\n",
       "/ORGANIZATION/BTI-SYSTEMS         10\n",
       "/ORGANIZATION/DELIVERYAGENT        9\n",
       "                                  ..\n",
       "/ORGANIZATION/STUBHUB              0\n",
       "/ORGANIZATION/BIGMACHINES          0\n",
       "/ORGANIZATION/BILLS-KHAKIS         0\n",
       "/ORGANIZATION/BINWISE              0\n",
       "/ORGANIZATION/004-TECHNOLOGIES     0\n",
       "Name: raised_amount_usd, Length: 4884, dtype: int64"
      ]
     },
     "execution_count": 76,
     "metadata": {},
     "output_type": "execute_result"
    }
   ],
   "source": [
    "#Company received the 1st highest investment for USA\n",
    "D1[D1['main_sector']=='Others'].groupby(by='company_permalink')['raised_amount_usd'].count().sort_values(ascending = False)"
   ]
  },
  {
   "cell_type": "code",
   "execution_count": 77,
   "id": "0b7110c4",
   "metadata": {},
   "outputs": [
    {
     "data": {
      "text/plain": [
       "company_permalink\n",
       "/ORGANIZATION/ROSTIMA           8\n",
       "/ORGANIZATION/ELECTRIC-CLOUD    7\n",
       "/ORGANIZATION/PICOCHIP          6\n",
       "/ORGANIZATION/HELVETA           6\n",
       "/ORGANIZATION/CRITICALBLUE      5\n",
       "                               ..\n",
       "/ORGANIZATION/E-TRADER-GROUP    0\n",
       "/ORGANIZATION/USER-REPLAY       0\n",
       "/ORGANIZATION/DRY-LUBE          0\n",
       "/ORGANIZATION/DOVETAIL          0\n",
       "/ORGANIZATION/SPOKE-3           0\n",
       "Name: raised_amount_usd, Length: 387, dtype: int64"
      ]
     },
     "execution_count": 77,
     "metadata": {},
     "output_type": "execute_result"
    }
   ],
   "source": [
    "#Company received the 1st highest investment for GBR\n",
    "D2[D2['main_sector']=='Others'].groupby(by='company_permalink')['raised_amount_usd'].count().sort_values(ascending = False)"
   ]
  },
  {
   "cell_type": "code",
   "execution_count": 78,
   "id": "7841e674",
   "metadata": {
    "scrolled": true
   },
   "outputs": [
    {
     "data": {
      "text/plain": [
       "company_permalink\n",
       "/ORGANIZATION/FLIPKART                        9\n",
       "/ORGANIZATION/MYNTRA                          8\n",
       "/ORGANIZATION/SNAPDEAL                        5\n",
       "/ORGANIZATION/CANVERA-DIGITAL-TECHNOLOGIES    5\n",
       "/ORGANIZATION/TUTORVISTA-COM                  5\n",
       "                                             ..\n",
       "/ORGANIZATION/HARNESS-HANDITOUCH              0\n",
       "/ORGANIZATION/CHUMBAK                         0\n",
       "/ORGANIZATION/HEALTHKART                      0\n",
       "/ORGANIZATION/FINDYAHAN                       0\n",
       "/ORGANIZATION/MAPMYINDIA                      0\n",
       "Name: raised_amount_usd, Length: 221, dtype: int64"
      ]
     },
     "execution_count": 78,
     "metadata": {},
     "output_type": "execute_result"
    }
   ],
   "source": [
    "#Company received the 1st highest investment for IND\n",
    "D3[D3['main_sector']=='Others'].groupby(by='company_permalink')['raised_amount_usd'].count().sort_values(ascending = False)"
   ]
  },
  {
   "cell_type": "markdown",
   "id": "686cc35e",
   "metadata": {},
   "source": [
    "#### S6: For point 4 (second best sector count-wise), which company received the highest investment?"
   ]
  },
  {
   "cell_type": "code",
   "execution_count": 79,
   "id": "c301e8ac",
   "metadata": {},
   "outputs": [
    {
     "data": {
      "text/plain": [
       "company_permalink\n",
       "/ORGANIZATION/TIGO-ENERGY                   12\n",
       "/ORGANIZATION/AVIIR                         12\n",
       "/ORGANIZATION/PRO-PHARMACEUTICALS           12\n",
       "/ORGANIZATION/COVENANT-SURGICAL-PARTNERS    12\n",
       "/ORGANIZATION/CNS-RESPONSE                  11\n",
       "                                            ..\n",
       "/ORGANIZATION/GENABILITY                     0\n",
       "/ORGANIZATION/NOTABLE-LABS-2                 0\n",
       "/ORGANIZATION/PHYSICIANS-IMMEDIATE-CARE      0\n",
       "/ORGANIZATION/NEUROSKY                       0\n",
       "/ORGANIZATION/WATER-GENERATING-SYSTEMS       0\n",
       "Name: raised_amount_usd, Length: 3930, dtype: int64"
      ]
     },
     "execution_count": 79,
     "metadata": {},
     "output_type": "execute_result"
    }
   ],
   "source": [
    "#Company received the 2nd highest investment of Cleantech / Semiconductors for USA\n",
    "D1[D1['main_sector']=='Cleantech / Semiconductors'].groupby(by='company_permalink')['raised_amount_usd'].count().sort_values(ascending = False)"
   ]
  },
  {
   "cell_type": "code",
   "execution_count": 80,
   "id": "6966c6f7",
   "metadata": {},
   "outputs": [
    {
     "data": {
      "text/plain": [
       "company_permalink\n",
       "/ORGANIZATION/SIMILARWEB             6\n",
       "/ORGANIZATION/WORLDREMIT             6\n",
       "/ORGANIZATION/BORRO                  5\n",
       "/ORGANIZATION/AD-IQ                  5\n",
       "/ORGANIZATION/SPORTPURSUIT           5\n",
       "                                    ..\n",
       "/ORGANIZATION/TOUCHLOCAL             0\n",
       "/ORGANIZATION/PHOTOSPOTLAND          0\n",
       "/ORGANIZATION/PERFECT-STORM-MEDIA    0\n",
       "/ORGANIZATION/TRIGGERTRAP            0\n",
       "/ORGANIZATION/POINTR                 0\n",
       "Name: raised_amount_usd, Length: 313, dtype: int64"
      ]
     },
     "execution_count": 80,
     "metadata": {},
     "output_type": "execute_result"
    }
   ],
   "source": [
    "#Company received the 2nd highest investment of Social, Finance, Analytics, Advertising for GBR\n",
    "D2[D2['main_sector']=='Social, Finance, Analytics, Advertising'].groupby(by='company_permalink')['raised_amount_usd'].count().sort_values(ascending = False)"
   ]
  },
  {
   "cell_type": "code",
   "execution_count": 81,
   "id": "fda12412",
   "metadata": {},
   "outputs": [
    {
     "data": {
      "text/plain": [
       "company_permalink\n",
       "/ORGANIZATION/MANTHAN-SYSTEMS    6\n",
       "/ORGANIZATION/POLICYBAZAAR       4\n",
       "/ORGANIZATION/SHOPCLUES-COM      4\n",
       "/ORGANIZATION/KOMLI-MEDIA        4\n",
       "/ORGANIZATION/VIZURY             3\n",
       "                                ..\n",
       "/ORGANIZATION/FINDABLE-IN        0\n",
       "/ORGANIZATION/FAIRCENT           0\n",
       "/ORGANIZATION/EMPOWER-FUTURES    0\n",
       "/ORGANIZATION/SIMPLI5D           0\n",
       "/ORGANIZATION/JOMBAY             0\n",
       "Name: raised_amount_usd, Length: 141, dtype: int64"
      ]
     },
     "execution_count": 81,
     "metadata": {},
     "output_type": "execute_result"
    }
   ],
   "source": [
    "#Company received the 2nd highest investment of Social, Finance, Analytics, Advertising for IND\n",
    "D3[D3['main_sector']=='Social, Finance, Analytics, Advertising'].groupby(by='company_permalink')['raised_amount_usd'].count().sort_values(ascending = False)"
   ]
  },
  {
   "cell_type": "markdown",
   "id": "204bec10",
   "metadata": {},
   "source": [
    "## Checkpoint 6: Plots"
   ]
  },
  {
   "cell_type": "code",
   "execution_count": 82,
   "id": "28d94c46",
   "metadata": {},
   "outputs": [],
   "source": [
    "#For Plotting Bar Chart Importing below libraries\n",
    "import matplotlib.pyplot as plt\n",
    "import seaborn as sns"
   ]
  },
  {
   "cell_type": "markdown",
   "id": "4d8c87ec",
   "metadata": {},
   "source": [
    "#### S1: A plot showing the representative amount of investment in each funding type. This chart should make it clear that a certain funding type (FT) is best suited for Spark Funds."
   ]
  },
  {
   "cell_type": "code",
   "execution_count": 83,
   "id": "ceff71f9",
   "metadata": {},
   "outputs": [
    {
     "data": {
      "text/plain": [
       "array(['venture', 'seed', 'undisclosed', 'equity_crowdfunding',\n",
       "       'convertible_note', 'private_equity', 'debt_financing', 'angel',\n",
       "       'grant', 'secondary_market', 'post_ipo_equity', 'post_ipo_debt',\n",
       "       'product_crowdfunding', 'non_equity_assistance'], dtype=object)"
      ]
     },
     "execution_count": 83,
     "metadata": {},
     "output_type": "execute_result"
    }
   ],
   "source": [
    "#To Identify Unique Funding Type and If we plot against raise amount, getting different result. \n",
    "#So took only 'venture', 'angel', 'seed', 'private_equity'\n",
    "master_frame['funding_round_type'].unique()"
   ]
  },
  {
   "cell_type": "code",
   "execution_count": 84,
   "id": "1f4f397d",
   "metadata": {},
   "outputs": [
    {
     "data": {
      "image/png": "[encoded data removed]",
      "text/plain": [
       "<Figure size 864x864 with 1 Axes>"
      ]
     },
     "metadata": {
      "needs_background": "light"
     },
     "output_type": "display_data"
    }
   ],
   "source": [
    "# Assigning size for the plot\n",
    "plt.subplots(figsize=(12,12))\n",
    "sns.barplot(x=master_frame['funding_round_type'],y=master_frame['raised_amount_usd'],estimator=np.mean,order=['angel', 'seed','venture', 'private_equity'],ci=None)\n",
    "plt.ylabel(\"Raised Amount USD (in millions)\")\n",
    "plt.xlabel(\"Funding Type\")\n",
    "plt.title(\"Average Amount of Investement\") \n",
    "plt.show()"
   ]
  },
  {
   "cell_type": "markdown",
   "id": "cf66185b",
   "metadata": {},
   "source": [
    "#### S2: A plot showing the top 9 countries against the total amount of investments of funding type FT. This should make the top 3 countries (Country 1, Country 2, and Country 3) very clear. "
   ]
  },
  {
   "cell_type": "code",
   "execution_count": 85,
   "id": "9f3fa054",
   "metadata": {},
   "outputs": [
    {
     "data": {
      "text/html": [
       "<div>\n",
       "<style scoped>\n",
       "    .dataframe tbody tr th:only-of-type {\n",
       "        vertical-align: middle;\n",
       "    }\n",
       "\n",
       "    .dataframe tbody tr th {\n",
       "        vertical-align: top;\n",
       "    }\n",
       "\n",
       "    .dataframe thead th {\n",
       "        text-align: right;\n",
       "    }\n",
       "</style>\n",
       "<table border=\"1\" class=\"dataframe\">\n",
       "  <thead>\n",
       "    <tr style=\"text-align: right;\">\n",
       "      <th></th>\n",
       "      <th>raised_amount_usd</th>\n",
       "    </tr>\n",
       "    <tr>\n",
       "      <th>country_code</th>\n",
       "      <th></th>\n",
       "    </tr>\n",
       "  </thead>\n",
       "  <tbody>\n",
       "    <tr>\n",
       "      <th>USA</th>\n",
       "      <td>422510842796.00</td>\n",
       "    </tr>\n",
       "    <tr>\n",
       "      <th>CHN</th>\n",
       "      <td>39835418773.00</td>\n",
       "    </tr>\n",
       "    <tr>\n",
       "      <th>GBR</th>\n",
       "      <td>20245627416.00</td>\n",
       "    </tr>\n",
       "    <tr>\n",
       "      <th>IND</th>\n",
       "      <td>14391858718.00</td>\n",
       "    </tr>\n",
       "    <tr>\n",
       "      <th>CAN</th>\n",
       "      <td>9583332317.00</td>\n",
       "    </tr>\n",
       "    <tr>\n",
       "      <th>...</th>\n",
       "      <td>...</td>\n",
       "    </tr>\n",
       "    <tr>\n",
       "      <th>MKD</th>\n",
       "      <td>0.00</td>\n",
       "    </tr>\n",
       "    <tr>\n",
       "      <th>PSE</th>\n",
       "      <td>0.00</td>\n",
       "    </tr>\n",
       "    <tr>\n",
       "      <th>BHR</th>\n",
       "      <td>0.00</td>\n",
       "    </tr>\n",
       "    <tr>\n",
       "      <th>RWA</th>\n",
       "      <td>0.00</td>\n",
       "    </tr>\n",
       "    <tr>\n",
       "      <th>MOZ</th>\n",
       "      <td>0.00</td>\n",
       "    </tr>\n",
       "  </tbody>\n",
       "</table>\n",
       "<p>103 rows × 1 columns</p>\n",
       "</div>"
      ],
      "text/plain": [
       "              raised_amount_usd\n",
       "country_code                   \n",
       "USA             422510842796.00\n",
       "CHN              39835418773.00\n",
       "GBR              20245627416.00\n",
       "IND              14391858718.00\n",
       "CAN               9583332317.00\n",
       "...                         ...\n",
       "MKD                        0.00\n",
       "PSE                        0.00\n",
       "BHR                        0.00\n",
       "RWA                        0.00\n",
       "MOZ                        0.00\n",
       "\n",
       "[103 rows x 1 columns]"
      ]
     },
     "execution_count": 85,
     "metadata": {},
     "output_type": "execute_result"
    }
   ],
   "source": [
    "#Use the earlier create datframe for analysis\n",
    "top9"
   ]
  },
  {
   "cell_type": "code",
   "execution_count": 86,
   "id": "7afb22d5",
   "metadata": {},
   "outputs": [],
   "source": [
    "#Filter only the First 9 countries\n",
    "top9New=top9.head(9).reset_index(inplace=False)"
   ]
  },
  {
   "cell_type": "code",
   "execution_count": 87,
   "id": "2470f36a",
   "metadata": {},
   "outputs": [
    {
     "data": {
      "text/html": [
       "<div>\n",
       "<style scoped>\n",
       "    .dataframe tbody tr th:only-of-type {\n",
       "        vertical-align: middle;\n",
       "    }\n",
       "\n",
       "    .dataframe tbody tr th {\n",
       "        vertical-align: top;\n",
       "    }\n",
       "\n",
       "    .dataframe thead th {\n",
       "        text-align: right;\n",
       "    }\n",
       "</style>\n",
       "<table border=\"1\" class=\"dataframe\">\n",
       "  <thead>\n",
       "    <tr style=\"text-align: right;\">\n",
       "      <th></th>\n",
       "      <th>country_code</th>\n",
       "      <th>raised_amount_usd</th>\n",
       "    </tr>\n",
       "  </thead>\n",
       "  <tbody>\n",
       "    <tr>\n",
       "      <th>0</th>\n",
       "      <td>USA</td>\n",
       "      <td>422510842796.00</td>\n",
       "    </tr>\n",
       "    <tr>\n",
       "      <th>1</th>\n",
       "      <td>CHN</td>\n",
       "      <td>39835418773.00</td>\n",
       "    </tr>\n",
       "    <tr>\n",
       "      <th>2</th>\n",
       "      <td>GBR</td>\n",
       "      <td>20245627416.00</td>\n",
       "    </tr>\n",
       "    <tr>\n",
       "      <th>3</th>\n",
       "      <td>IND</td>\n",
       "      <td>14391858718.00</td>\n",
       "    </tr>\n",
       "    <tr>\n",
       "      <th>4</th>\n",
       "      <td>CAN</td>\n",
       "      <td>9583332317.00</td>\n",
       "    </tr>\n",
       "  </tbody>\n",
       "</table>\n",
       "</div>"
      ],
      "text/plain": [
       "  country_code  raised_amount_usd\n",
       "0          USA    422510842796.00\n",
       "1          CHN     39835418773.00\n",
       "2          GBR     20245627416.00\n",
       "3          IND     14391858718.00\n",
       "4          CAN      9583332317.00"
      ]
     },
     "execution_count": 87,
     "metadata": {},
     "output_type": "execute_result"
    }
   ],
   "source": [
    "top9New.head()"
   ]
  },
  {
   "cell_type": "code",
   "execution_count": 88,
   "id": "1cfbe179",
   "metadata": {},
   "outputs": [
    {
     "data": {
      "image/png": "[encoded data removed]",
      "text/plain": [
       "<Figure size 864x864 with 1 Axes>"
      ]
     },
     "metadata": {
      "needs_background": "light"
     },
     "output_type": "display_data"
    }
   ],
   "source": [
    "#Based on the 9 countries plot it against the raised amount\n",
    "plt.subplots(figsize=(12,12))\n",
    "sns.barplot(x=top9New['country_code'],y=top9New['raised_amount_usd'],estimator=np.mean,order=top9New['country_code'],ci=None)\n",
    "plt.ylabel(\"Raised Amount USD (in millions)\")\n",
    "plt.xlabel(\"Country Code\")\n",
    "plt.title(\"Top 9 Countries\") \n",
    "plt.show()"
   ]
  },
  {
   "cell_type": "markdown",
   "id": "514ce2e1",
   "metadata": {},
   "source": [
    "#### S3: A plot showing the number of investments in the top 3 sectors of the top 3 countries on one chart (for the chosen investment type FT). This plot should clearly display the top 3 sectors each in Country 1, Country 2, and Country 3."
   ]
  },
  {
   "cell_type": "code",
   "execution_count": 89,
   "id": "55cb55d6",
   "metadata": {},
   "outputs": [],
   "source": [
    "#Take first top three entries of the USA Main sector\n",
    "USA_VAL=D1.groupby(by='main_sector')['main_sector'].count().sort_values(ascending = False).head(3)"
   ]
  },
  {
   "cell_type": "code",
   "execution_count": 90,
   "id": "8bc3f061",
   "metadata": {},
   "outputs": [],
   "source": [
    "#Load the value into dataframe for easy calculation\n",
    "USA=pd.DataFrame(USA_VAL)"
   ]
  },
  {
   "cell_type": "code",
   "execution_count": 91,
   "id": "eb12a093",
   "metadata": {},
   "outputs": [],
   "source": [
    "#Rename the column to count, as both the columns heading are same. While resetting we are getting error.\n",
    "#to prevent that column name has been changed\n",
    "USA.columns=['Count']"
   ]
  },
  {
   "cell_type": "code",
   "execution_count": 92,
   "id": "45174a4d",
   "metadata": {},
   "outputs": [
    {
     "data": {
      "text/html": [
       "<div>\n",
       "<style scoped>\n",
       "    .dataframe tbody tr th:only-of-type {\n",
       "        vertical-align: middle;\n",
       "    }\n",
       "\n",
       "    .dataframe tbody tr th {\n",
       "        vertical-align: top;\n",
       "    }\n",
       "\n",
       "    .dataframe thead th {\n",
       "        text-align: right;\n",
       "    }\n",
       "</style>\n",
       "<table border=\"1\" class=\"dataframe\">\n",
       "  <thead>\n",
       "    <tr style=\"text-align: right;\">\n",
       "      <th></th>\n",
       "      <th>Count</th>\n",
       "    </tr>\n",
       "    <tr>\n",
       "      <th>main_sector</th>\n",
       "      <th></th>\n",
       "    </tr>\n",
       "  </thead>\n",
       "  <tbody>\n",
       "    <tr>\n",
       "      <th>Others</th>\n",
       "      <td>8763</td>\n",
       "    </tr>\n",
       "    <tr>\n",
       "      <th>Cleantech / Semiconductors</th>\n",
       "      <td>8268</td>\n",
       "    </tr>\n",
       "    <tr>\n",
       "      <th>Social, Finance, Analytics, Advertising</th>\n",
       "      <td>7822</td>\n",
       "    </tr>\n",
       "  </tbody>\n",
       "</table>\n",
       "</div>"
      ],
      "text/plain": [
       "                                         Count\n",
       "main_sector                                   \n",
       "Others                                    8763\n",
       "Cleantech / Semiconductors                8268\n",
       "Social, Finance, Analytics, Advertising   7822"
      ]
     },
     "execution_count": 92,
     "metadata": {},
     "output_type": "execute_result"
    }
   ],
   "source": [
    "USA"
   ]
  },
  {
   "cell_type": "code",
   "execution_count": 93,
   "id": "96a970d0",
   "metadata": {},
   "outputs": [],
   "source": [
    "#Resetting the index\n",
    "USA.reset_index(inplace=True)"
   ]
  },
  {
   "cell_type": "code",
   "execution_count": 94,
   "id": "2ef4a810",
   "metadata": {},
   "outputs": [
    {
     "data": {
      "text/html": [
       "<div>\n",
       "<style scoped>\n",
       "    .dataframe tbody tr th:only-of-type {\n",
       "        vertical-align: middle;\n",
       "    }\n",
       "\n",
       "    .dataframe tbody tr th {\n",
       "        vertical-align: top;\n",
       "    }\n",
       "\n",
       "    .dataframe thead th {\n",
       "        text-align: right;\n",
       "    }\n",
       "</style>\n",
       "<table border=\"1\" class=\"dataframe\">\n",
       "  <thead>\n",
       "    <tr style=\"text-align: right;\">\n",
       "      <th></th>\n",
       "      <th>main_sector</th>\n",
       "      <th>Count</th>\n",
       "    </tr>\n",
       "  </thead>\n",
       "  <tbody>\n",
       "    <tr>\n",
       "      <th>0</th>\n",
       "      <td>Others</td>\n",
       "      <td>8763</td>\n",
       "    </tr>\n",
       "    <tr>\n",
       "      <th>1</th>\n",
       "      <td>Cleantech / Semiconductors</td>\n",
       "      <td>8268</td>\n",
       "    </tr>\n",
       "    <tr>\n",
       "      <th>2</th>\n",
       "      <td>Social, Finance, Analytics, Advertising</td>\n",
       "      <td>7822</td>\n",
       "    </tr>\n",
       "  </tbody>\n",
       "</table>\n",
       "</div>"
      ],
      "text/plain": [
       "                               main_sector  Count\n",
       "0                                   Others   8763\n",
       "1               Cleantech / Semiconductors   8268\n",
       "2  Social, Finance, Analytics, Advertising   7822"
      ]
     },
     "execution_count": 94,
     "metadata": {},
     "output_type": "execute_result"
    }
   ],
   "source": [
    "USA"
   ]
  },
  {
   "cell_type": "code",
   "execution_count": 95,
   "id": "8c59eed1",
   "metadata": {},
   "outputs": [],
   "source": [
    "#Create a new column as country and store USA for the top 3 sectors \n",
    "USA['Country']='USA'"
   ]
  },
  {
   "cell_type": "code",
   "execution_count": 96,
   "id": "53e1b11e",
   "metadata": {},
   "outputs": [
    {
     "data": {
      "text/html": [
       "<div>\n",
       "<style scoped>\n",
       "    .dataframe tbody tr th:only-of-type {\n",
       "        vertical-align: middle;\n",
       "    }\n",
       "\n",
       "    .dataframe tbody tr th {\n",
       "        vertical-align: top;\n",
       "    }\n",
       "\n",
       "    .dataframe thead th {\n",
       "        text-align: right;\n",
       "    }\n",
       "</style>\n",
       "<table border=\"1\" class=\"dataframe\">\n",
       "  <thead>\n",
       "    <tr style=\"text-align: right;\">\n",
       "      <th></th>\n",
       "      <th>main_sector</th>\n",
       "      <th>Count</th>\n",
       "      <th>Country</th>\n",
       "    </tr>\n",
       "  </thead>\n",
       "  <tbody>\n",
       "    <tr>\n",
       "      <th>0</th>\n",
       "      <td>Others</td>\n",
       "      <td>8763</td>\n",
       "      <td>USA</td>\n",
       "    </tr>\n",
       "    <tr>\n",
       "      <th>1</th>\n",
       "      <td>Cleantech / Semiconductors</td>\n",
       "      <td>8268</td>\n",
       "      <td>USA</td>\n",
       "    </tr>\n",
       "    <tr>\n",
       "      <th>2</th>\n",
       "      <td>Social, Finance, Analytics, Advertising</td>\n",
       "      <td>7822</td>\n",
       "      <td>USA</td>\n",
       "    </tr>\n",
       "  </tbody>\n",
       "</table>\n",
       "</div>"
      ],
      "text/plain": [
       "                               main_sector  Count Country\n",
       "0                                   Others   8763     USA\n",
       "1               Cleantech / Semiconductors   8268     USA\n",
       "2  Social, Finance, Analytics, Advertising   7822     USA"
      ]
     },
     "execution_count": 96,
     "metadata": {},
     "output_type": "execute_result"
    }
   ],
   "source": [
    "USA"
   ]
  },
  {
   "cell_type": "code",
   "execution_count": 97,
   "id": "0222b4ee",
   "metadata": {},
   "outputs": [],
   "source": [
    "#Take first top three entries of the GBR Main sector and load it into dataframe\n",
    "GBR=pd.DataFrame(D2.groupby(by='main_sector')['main_sector'].count().sort_values(ascending = False).head(3))"
   ]
  },
  {
   "cell_type": "code",
   "execution_count": 98,
   "id": "48aef80a",
   "metadata": {},
   "outputs": [
    {
     "data": {
      "text/html": [
       "<div>\n",
       "<style scoped>\n",
       "    .dataframe tbody tr th:only-of-type {\n",
       "        vertical-align: middle;\n",
       "    }\n",
       "\n",
       "    .dataframe tbody tr th {\n",
       "        vertical-align: top;\n",
       "    }\n",
       "\n",
       "    .dataframe thead th {\n",
       "        text-align: right;\n",
       "    }\n",
       "</style>\n",
       "<table border=\"1\" class=\"dataframe\">\n",
       "  <thead>\n",
       "    <tr style=\"text-align: right;\">\n",
       "      <th></th>\n",
       "      <th>main_sector</th>\n",
       "    </tr>\n",
       "    <tr>\n",
       "      <th>main_sector</th>\n",
       "      <th></th>\n",
       "    </tr>\n",
       "  </thead>\n",
       "  <tbody>\n",
       "    <tr>\n",
       "      <th>Others</th>\n",
       "      <td>580</td>\n",
       "    </tr>\n",
       "    <tr>\n",
       "      <th>Social, Finance, Analytics, Advertising</th>\n",
       "      <td>481</td>\n",
       "    </tr>\n",
       "    <tr>\n",
       "      <th>Cleantech / Semiconductors</th>\n",
       "      <td>466</td>\n",
       "    </tr>\n",
       "  </tbody>\n",
       "</table>\n",
       "</div>"
      ],
      "text/plain": [
       "                                         main_sector\n",
       "main_sector                                         \n",
       "Others                                           580\n",
       "Social, Finance, Analytics, Advertising          481\n",
       "Cleantech / Semiconductors                       466"
      ]
     },
     "execution_count": 98,
     "metadata": {},
     "output_type": "execute_result"
    }
   ],
   "source": [
    "GBR"
   ]
  },
  {
   "cell_type": "code",
   "execution_count": 99,
   "id": "cf8fa72c",
   "metadata": {},
   "outputs": [],
   "source": [
    "#Rename the column to count, as both the columns heading are same. While resetting we are getting error.\n",
    "#to prevent that column name has been changed\n",
    "GBR.columns=['Count']"
   ]
  },
  {
   "cell_type": "code",
   "execution_count": 100,
   "id": "7816191f",
   "metadata": {},
   "outputs": [],
   "source": [
    "#Resetting the index\n",
    "GBR.reset_index(inplace=True)"
   ]
  },
  {
   "cell_type": "code",
   "execution_count": 101,
   "id": "84a0737c",
   "metadata": {},
   "outputs": [],
   "source": [
    "#Create a new column as country and store GBR for the top 3 sectors \n",
    "GBR['Country']='GBR'"
   ]
  },
  {
   "cell_type": "code",
   "execution_count": 102,
   "id": "261755af",
   "metadata": {},
   "outputs": [
    {
     "data": {
      "text/html": [
       "<div>\n",
       "<style scoped>\n",
       "    .dataframe tbody tr th:only-of-type {\n",
       "        vertical-align: middle;\n",
       "    }\n",
       "\n",
       "    .dataframe tbody tr th {\n",
       "        vertical-align: top;\n",
       "    }\n",
       "\n",
       "    .dataframe thead th {\n",
       "        text-align: right;\n",
       "    }\n",
       "</style>\n",
       "<table border=\"1\" class=\"dataframe\">\n",
       "  <thead>\n",
       "    <tr style=\"text-align: right;\">\n",
       "      <th></th>\n",
       "      <th>main_sector</th>\n",
       "      <th>Count</th>\n",
       "      <th>Country</th>\n",
       "    </tr>\n",
       "  </thead>\n",
       "  <tbody>\n",
       "    <tr>\n",
       "      <th>0</th>\n",
       "      <td>Others</td>\n",
       "      <td>580</td>\n",
       "      <td>GBR</td>\n",
       "    </tr>\n",
       "    <tr>\n",
       "      <th>1</th>\n",
       "      <td>Social, Finance, Analytics, Advertising</td>\n",
       "      <td>481</td>\n",
       "      <td>GBR</td>\n",
       "    </tr>\n",
       "    <tr>\n",
       "      <th>2</th>\n",
       "      <td>Cleantech / Semiconductors</td>\n",
       "      <td>466</td>\n",
       "      <td>GBR</td>\n",
       "    </tr>\n",
       "  </tbody>\n",
       "</table>\n",
       "</div>"
      ],
      "text/plain": [
       "                               main_sector  Count Country\n",
       "0                                   Others    580     GBR\n",
       "1  Social, Finance, Analytics, Advertising    481     GBR\n",
       "2               Cleantech / Semiconductors    466     GBR"
      ]
     },
     "execution_count": 102,
     "metadata": {},
     "output_type": "execute_result"
    }
   ],
   "source": [
    "GBR"
   ]
  },
  {
   "cell_type": "code",
   "execution_count": 103,
   "id": "7a303056",
   "metadata": {},
   "outputs": [],
   "source": [
    "#Take first top three entries of the IND Main sector and load it into dataframe\n",
    "IND=pd.DataFrame(D3.groupby(by='main_sector')['main_sector'].count().sort_values(ascending = False).head(3))"
   ]
  },
  {
   "cell_type": "code",
   "execution_count": 104,
   "id": "159782e1",
   "metadata": {},
   "outputs": [],
   "source": [
    "#Rename the column to count, as both the columns heading are same. While resetting we are  getting error.\n",
    "#to prevent that column name has been changed\n",
    "IND.columns=['Count']"
   ]
  },
  {
   "cell_type": "code",
   "execution_count": 105,
   "id": "b492a229",
   "metadata": {},
   "outputs": [],
   "source": [
    "#Resetting the index\n",
    "IND.reset_index(inplace=True)"
   ]
  },
  {
   "cell_type": "code",
   "execution_count": 106,
   "id": "b901a606",
   "metadata": {},
   "outputs": [],
   "source": [
    "#Create a new column as country and store IND for the top 3 sectors \n",
    "IND['Country']='IND'"
   ]
  },
  {
   "cell_type": "code",
   "execution_count": 107,
   "id": "f22e3493",
   "metadata": {},
   "outputs": [
    {
     "data": {
      "text/html": [
       "<div>\n",
       "<style scoped>\n",
       "    .dataframe tbody tr th:only-of-type {\n",
       "        vertical-align: middle;\n",
       "    }\n",
       "\n",
       "    .dataframe tbody tr th {\n",
       "        vertical-align: top;\n",
       "    }\n",
       "\n",
       "    .dataframe thead th {\n",
       "        text-align: right;\n",
       "    }\n",
       "</style>\n",
       "<table border=\"1\" class=\"dataframe\">\n",
       "  <thead>\n",
       "    <tr style=\"text-align: right;\">\n",
       "      <th></th>\n",
       "      <th>main_sector</th>\n",
       "      <th>Count</th>\n",
       "      <th>Country</th>\n",
       "    </tr>\n",
       "  </thead>\n",
       "  <tbody>\n",
       "    <tr>\n",
       "      <th>0</th>\n",
       "      <td>Others</td>\n",
       "      <td>332</td>\n",
       "      <td>IND</td>\n",
       "    </tr>\n",
       "    <tr>\n",
       "      <th>1</th>\n",
       "      <td>Social, Finance, Analytics, Advertising</td>\n",
       "      <td>193</td>\n",
       "      <td>IND</td>\n",
       "    </tr>\n",
       "    <tr>\n",
       "      <th>2</th>\n",
       "      <td>News, Search and Messaging</td>\n",
       "      <td>154</td>\n",
       "      <td>IND</td>\n",
       "    </tr>\n",
       "  </tbody>\n",
       "</table>\n",
       "</div>"
      ],
      "text/plain": [
       "                               main_sector  Count Country\n",
       "0                                   Others    332     IND\n",
       "1  Social, Finance, Analytics, Advertising    193     IND\n",
       "2               News, Search and Messaging    154     IND"
      ]
     },
     "execution_count": 107,
     "metadata": {},
     "output_type": "execute_result"
    }
   ],
   "source": [
    "IND"
   ]
  },
  {
   "cell_type": "code",
   "execution_count": 108,
   "id": "8e4e6425",
   "metadata": {},
   "outputs": [],
   "source": [
    "#Load the Three Countries sector\n",
    "sector3Frame=[USA,GBR,IND]"
   ]
  },
  {
   "cell_type": "code",
   "execution_count": 109,
   "id": "87760b91",
   "metadata": {},
   "outputs": [],
   "source": [
    "#Combine Three Countries sector\n",
    "sector3=pd.concat(sector3Frame)"
   ]
  },
  {
   "cell_type": "code",
   "execution_count": 110,
   "id": "f95be537",
   "metadata": {},
   "outputs": [
    {
     "data": {
      "text/html": [
       "<div>\n",
       "<style scoped>\n",
       "    .dataframe tbody tr th:only-of-type {\n",
       "        vertical-align: middle;\n",
       "    }\n",
       "\n",
       "    .dataframe tbody tr th {\n",
       "        vertical-align: top;\n",
       "    }\n",
       "\n",
       "    .dataframe thead th {\n",
       "        text-align: right;\n",
       "    }\n",
       "</style>\n",
       "<table border=\"1\" class=\"dataframe\">\n",
       "  <thead>\n",
       "    <tr style=\"text-align: right;\">\n",
       "      <th></th>\n",
       "      <th>main_sector</th>\n",
       "      <th>Count</th>\n",
       "      <th>Country</th>\n",
       "    </tr>\n",
       "  </thead>\n",
       "  <tbody>\n",
       "    <tr>\n",
       "      <th>0</th>\n",
       "      <td>Others</td>\n",
       "      <td>8763</td>\n",
       "      <td>USA</td>\n",
       "    </tr>\n",
       "    <tr>\n",
       "      <th>1</th>\n",
       "      <td>Cleantech / Semiconductors</td>\n",
       "      <td>8268</td>\n",
       "      <td>USA</td>\n",
       "    </tr>\n",
       "    <tr>\n",
       "      <th>2</th>\n",
       "      <td>Social, Finance, Analytics, Advertising</td>\n",
       "      <td>7822</td>\n",
       "      <td>USA</td>\n",
       "    </tr>\n",
       "    <tr>\n",
       "      <th>0</th>\n",
       "      <td>Others</td>\n",
       "      <td>580</td>\n",
       "      <td>GBR</td>\n",
       "    </tr>\n",
       "    <tr>\n",
       "      <th>1</th>\n",
       "      <td>Social, Finance, Analytics, Advertising</td>\n",
       "      <td>481</td>\n",
       "      <td>GBR</td>\n",
       "    </tr>\n",
       "    <tr>\n",
       "      <th>2</th>\n",
       "      <td>Cleantech / Semiconductors</td>\n",
       "      <td>466</td>\n",
       "      <td>GBR</td>\n",
       "    </tr>\n",
       "    <tr>\n",
       "      <th>0</th>\n",
       "      <td>Others</td>\n",
       "      <td>332</td>\n",
       "      <td>IND</td>\n",
       "    </tr>\n",
       "    <tr>\n",
       "      <th>1</th>\n",
       "      <td>Social, Finance, Analytics, Advertising</td>\n",
       "      <td>193</td>\n",
       "      <td>IND</td>\n",
       "    </tr>\n",
       "    <tr>\n",
       "      <th>2</th>\n",
       "      <td>News, Search and Messaging</td>\n",
       "      <td>154</td>\n",
       "      <td>IND</td>\n",
       "    </tr>\n",
       "  </tbody>\n",
       "</table>\n",
       "</div>"
      ],
      "text/plain": [
       "                               main_sector  Count Country\n",
       "0                                   Others   8763     USA\n",
       "1               Cleantech / Semiconductors   8268     USA\n",
       "2  Social, Finance, Analytics, Advertising   7822     USA\n",
       "0                                   Others    580     GBR\n",
       "1  Social, Finance, Analytics, Advertising    481     GBR\n",
       "2               Cleantech / Semiconductors    466     GBR\n",
       "0                                   Others    332     IND\n",
       "1  Social, Finance, Analytics, Advertising    193     IND\n",
       "2               News, Search and Messaging    154     IND"
      ]
     },
     "execution_count": 110,
     "metadata": {},
     "output_type": "execute_result"
    }
   ],
   "source": [
    "sector3"
   ]
  },
  {
   "cell_type": "code",
   "execution_count": 111,
   "id": "81741412",
   "metadata": {},
   "outputs": [
    {
     "data": {
      "image/png": "[encoded data removed]",
      "text/plain": [
       "<Figure size 864x864 with 1 Axes>"
      ]
     },
     "metadata": {
      "needs_background": "light"
     },
     "output_type": "display_data"
    }
   ],
   "source": [
    "#Using concatinated sector, Plot Country against Count to get Top 3 Sector of the Top 3 Countries\n",
    "plt.subplots(figsize=(12,12))\n",
    "sns.barplot(x='Country', y='Count', hue='main_sector',data=sector3)\n",
    "plt.ylabel(\"Total Investment\")\n",
    "plt.title(\"Top 3 Countries\") \n",
    "plt.show()"
   ]
  }
 ],
 "metadata": {
  "kernelspec": {
   "display_name": "Python 3",
   "language": "python",
   "name": "python3"
  },
  "language_info": {
   "codemirror_mode": {
    "name": "ipython",
    "version": 3
   },
   "file_extension": ".py",
   "mimetype": "text/x-python",
   "name": "python",
   "nbconvert_exporter": "python",
   "pygments_lexer": "ipython3",
   "version": "3.8.8"
  }
 },
 "nbformat": 4,
 "nbformat_minor": 5
}
